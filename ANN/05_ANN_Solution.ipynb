{
 "cells": [
  {
   "cell_type": "markdown",
   "metadata": {
    "id": "-8TQ_zzSs5Mb"
   },
   "source": [
    "# [머신러닝 기반 시계열 분석 2 실습]\n",
    "# ANN\n",
    "## [ANN 실전 - Solution]"
   ]
  },
  {
   "cell_type": "markdown",
   "metadata": {
    "id": "b3BKO8chs5Mq"
   },
   "source": [
    "##### jupyter notebook 단축키\n",
    "\n",
    "- ctrl+enter: 셀 실행   \n",
    "- shift+enter: 셀 실행 및 다음 셀 이동   \n",
    "- alt+enter: 셀 실행, 다음 셀 이동, 새로운 셀 생성\n",
    "- a: 상단에 새로운 셀 만들기\n",
    "- b: 하단에 새로운 셀 만들기\n",
    "- dd: 셀 삭제(x: 셀 삭제)\n",
    "- 함수 ( ) 안에서 shift+tab: arguments description. shift+tab+tab은 길게 볼 수 있도록"
   ]
  },
  {
   "cell_type": "code",
   "execution_count": null,
   "metadata": {
    "colab": {
     "base_uri": "https://localhost:8080/"
    },
    "id": "g7w6_mDys5Mt",
    "outputId": "294621bc-97da-4bd3-bfef-74683a03f250"
   },
   "outputs": [
    {
     "name": "stdout",
     "output_type": "stream",
     "text": [
      "fatal: destination path 'LG_time_series_day05' already exists and is not an empty directory.\n"
     ]
    }
   ],
   "source": [
    "!git clone https://github.com/Yong-Gon/LG2025_ANN.git #코랩 사용"
   ]
  },
  {
   "cell_type": "markdown",
   "metadata": {
    "id": "VVpBKaMds5Mx",
    "tags": []
   },
   "source": [
    "## 0. 모듈 불러오기"
   ]
  },
  {
   "cell_type": "code",
   "execution_count": null,
   "metadata": {
    "id": "8oGN-T9ls5Mz"
   },
   "outputs": [],
   "source": [
    "''' 기본 모듈 및 시각화 모듈 '''\n",
    "from IPython.display import display, HTML, Image\n",
    "import numpy as np\n",
    "import pandas as pd\n",
    "import seaborn as sns\n",
    "import matplotlib.pyplot as plt\n",
    "\n",
    "''' 데이터 전처리 모듈 '''\n",
    "from sklearn.preprocessing import StandardScaler, MinMaxScaler\n",
    "from sklearn.model_selection import train_test_split\n",
    "\n",
    "''' Linear Regression 모듈 '''\n",
    "from sklearn.linear_model import LinearRegression\n",
    "\n",
    "''' Neural Network Classifier(분류기) 모듈 '''\n",
    "from sklearn.neural_network import MLPClassifier\n",
    "\n",
    "''' Neural Network Regressor 모듈 '''\n",
    "from sklearn.neural_network import MLPRegressor\n",
    "\n",
    "''' 결과 평가용 모듈 '''\n",
    "from sklearn.metrics import confusion_matrix, classification_report\n",
    "from sklearn.metrics import mean_squared_error, r2_score, mean_absolute_error"
   ]
  },
  {
   "cell_type": "markdown",
   "metadata": {
    "id": "UYJoRT_Ms5M2"
   },
   "source": [
    "## 1. 분석데이터: Universal Bank (이진 분류 문제)"
   ]
  },
  {
   "cell_type": "markdown",
   "metadata": {
    "id": "xKxtxHFds5M4"
   },
   "source": [
    "### 설명변수 (X)\n",
    "- Age\n",
    "- Experience\n",
    "- Income\n",
    "- ZIP Code\n",
    "- Family\n",
    "- CCAvg\n",
    "- Education\n",
    "- Mortgage\n",
    "- Securities Account\n",
    "- CD Account\n",
    "- Online\n",
    "- CreditCard\n",
    "\n",
    "### 반응변수 (Y)\n",
    "- Personal Loan"
   ]
  },
  {
   "cell_type": "markdown",
   "metadata": {
    "id": "owdtU6cxs5M7"
   },
   "source": [
    "### 데이터 불러오기"
   ]
  },
  {
   "cell_type": "code",
   "execution_count": null,
   "metadata": {
    "id": "iNEXDJ0Ks5M-"
   },
   "outputs": [],
   "source": [
    "data = pd.read_csv('/content/LG2025_ANN/data/UniversalBank.csv', index_col=0)\n",
    "# data = pd.read_csv('./data/UniversalBank.csv', index_col=0) # 로컬"
   ]
  },
  {
   "cell_type": "markdown",
   "metadata": {
    "id": "XutVxCsxs5NA"
   },
   "source": [
    "## 1-1. 데이터 전처리 및 탐색적 데이터 분석"
   ]
  },
  {
   "cell_type": "markdown",
   "metadata": {
    "id": "FzGDWV-Ls5NC"
   },
   "source": [
    "### 데이터 확인"
   ]
  },
  {
   "cell_type": "code",
   "execution_count": null,
   "metadata": {
    "colab": {
     "base_uri": "https://localhost:8080/",
     "height": 306
    },
    "id": "vUphSGTrs5NE",
    "outputId": "638ddb14-0ca3-4380-a4f0-ef87a21324e8",
    "scrolled": true
   },
   "outputs": [
    {
     "name": "stdout",
     "output_type": "stream",
     "text": [
      "Data shape: (5000, 14)\n"
     ]
    },
    {
     "data": {
      "text/html": [
       "\n",
       "  <div id=\"df-5ea724f4-86c0-45ae-9d82-e02b1bc8a408\">\n",
       "    <div class=\"colab-df-container\">\n",
       "      <div>\n",
       "<style scoped>\n",
       "    .dataframe tbody tr th:only-of-type {\n",
       "        vertical-align: middle;\n",
       "    }\n",
       "\n",
       "    .dataframe tbody tr th {\n",
       "        vertical-align: top;\n",
       "    }\n",
       "\n",
       "    .dataframe thead th {\n",
       "        text-align: right;\n",
       "    }\n",
       "</style>\n",
       "<table border=\"1\" class=\"dataframe\">\n",
       "  <thead>\n",
       "    <tr style=\"text-align: right;\">\n",
       "      <th></th>\n",
       "      <th>ID</th>\n",
       "      <th>Age</th>\n",
       "      <th>Experience</th>\n",
       "      <th>Income</th>\n",
       "      <th>ZIP Code</th>\n",
       "      <th>Family</th>\n",
       "      <th>CCAvg</th>\n",
       "      <th>Education</th>\n",
       "      <th>Mortgage</th>\n",
       "      <th>Personal Loan</th>\n",
       "      <th>Securities Account</th>\n",
       "      <th>CD Account</th>\n",
       "      <th>Online</th>\n",
       "      <th>CreditCard</th>\n",
       "    </tr>\n",
       "  </thead>\n",
       "  <tbody>\n",
       "    <tr>\n",
       "      <th>0</th>\n",
       "      <td>1</td>\n",
       "      <td>25</td>\n",
       "      <td>1</td>\n",
       "      <td>49</td>\n",
       "      <td>91107</td>\n",
       "      <td>4</td>\n",
       "      <td>1.6</td>\n",
       "      <td>1</td>\n",
       "      <td>0</td>\n",
       "      <td>0</td>\n",
       "      <td>1</td>\n",
       "      <td>0</td>\n",
       "      <td>0</td>\n",
       "      <td>0</td>\n",
       "    </tr>\n",
       "    <tr>\n",
       "      <th>1</th>\n",
       "      <td>2</td>\n",
       "      <td>45</td>\n",
       "      <td>19</td>\n",
       "      <td>34</td>\n",
       "      <td>90089</td>\n",
       "      <td>3</td>\n",
       "      <td>1.5</td>\n",
       "      <td>1</td>\n",
       "      <td>0</td>\n",
       "      <td>0</td>\n",
       "      <td>1</td>\n",
       "      <td>0</td>\n",
       "      <td>0</td>\n",
       "      <td>0</td>\n",
       "    </tr>\n",
       "    <tr>\n",
       "      <th>2</th>\n",
       "      <td>3</td>\n",
       "      <td>39</td>\n",
       "      <td>15</td>\n",
       "      <td>11</td>\n",
       "      <td>94720</td>\n",
       "      <td>1</td>\n",
       "      <td>1.0</td>\n",
       "      <td>1</td>\n",
       "      <td>0</td>\n",
       "      <td>0</td>\n",
       "      <td>0</td>\n",
       "      <td>0</td>\n",
       "      <td>0</td>\n",
       "      <td>0</td>\n",
       "    </tr>\n",
       "    <tr>\n",
       "      <th>3</th>\n",
       "      <td>4</td>\n",
       "      <td>35</td>\n",
       "      <td>9</td>\n",
       "      <td>100</td>\n",
       "      <td>94112</td>\n",
       "      <td>1</td>\n",
       "      <td>2.7</td>\n",
       "      <td>2</td>\n",
       "      <td>0</td>\n",
       "      <td>0</td>\n",
       "      <td>0</td>\n",
       "      <td>0</td>\n",
       "      <td>0</td>\n",
       "      <td>0</td>\n",
       "    </tr>\n",
       "    <tr>\n",
       "      <th>4</th>\n",
       "      <td>5</td>\n",
       "      <td>35</td>\n",
       "      <td>8</td>\n",
       "      <td>45</td>\n",
       "      <td>91330</td>\n",
       "      <td>4</td>\n",
       "      <td>1.0</td>\n",
       "      <td>2</td>\n",
       "      <td>0</td>\n",
       "      <td>0</td>\n",
       "      <td>0</td>\n",
       "      <td>0</td>\n",
       "      <td>0</td>\n",
       "      <td>1</td>\n",
       "    </tr>\n",
       "  </tbody>\n",
       "</table>\n",
       "</div>\n",
       "      <button class=\"colab-df-convert\" onclick=\"convertToInteractive('df-5ea724f4-86c0-45ae-9d82-e02b1bc8a408')\"\n",
       "              title=\"Convert this dataframe to an interactive table.\"\n",
       "              style=\"display:none;\">\n",
       "        \n",
       "  <svg xmlns=\"http://www.w3.org/2000/svg\" height=\"24px\"viewBox=\"0 0 24 24\"\n",
       "       width=\"24px\">\n",
       "    <path d=\"M0 0h24v24H0V0z\" fill=\"none\"/>\n",
       "    <path d=\"M18.56 5.44l.94 2.06.94-2.06 2.06-.94-2.06-.94-.94-2.06-.94 2.06-2.06.94zm-11 1L8.5 8.5l.94-2.06 2.06-.94-2.06-.94L8.5 2.5l-.94 2.06-2.06.94zm10 10l.94 2.06.94-2.06 2.06-.94-2.06-.94-.94-2.06-.94 2.06-2.06.94z\"/><path d=\"M17.41 7.96l-1.37-1.37c-.4-.4-.92-.59-1.43-.59-.52 0-1.04.2-1.43.59L10.3 9.45l-7.72 7.72c-.78.78-.78 2.05 0 2.83L4 21.41c.39.39.9.59 1.41.59.51 0 1.02-.2 1.41-.59l7.78-7.78 2.81-2.81c.8-.78.8-2.07 0-2.86zM5.41 20L4 18.59l7.72-7.72 1.47 1.35L5.41 20z\"/>\n",
       "  </svg>\n",
       "      </button>\n",
       "      \n",
       "  <style>\n",
       "    .colab-df-container {\n",
       "      display:flex;\n",
       "      flex-wrap:wrap;\n",
       "      gap: 12px;\n",
       "    }\n",
       "\n",
       "    .colab-df-convert {\n",
       "      background-color: #E8F0FE;\n",
       "      border: none;\n",
       "      border-radius: 50%;\n",
       "      cursor: pointer;\n",
       "      display: none;\n",
       "      fill: #1967D2;\n",
       "      height: 32px;\n",
       "      padding: 0 0 0 0;\n",
       "      width: 32px;\n",
       "    }\n",
       "\n",
       "    .colab-df-convert:hover {\n",
       "      background-color: #E2EBFA;\n",
       "      box-shadow: 0px 1px 2px rgba(60, 64, 67, 0.3), 0px 1px 3px 1px rgba(60, 64, 67, 0.15);\n",
       "      fill: #174EA6;\n",
       "    }\n",
       "\n",
       "    [theme=dark] .colab-df-convert {\n",
       "      background-color: #3B4455;\n",
       "      fill: #D2E3FC;\n",
       "    }\n",
       "\n",
       "    [theme=dark] .colab-df-convert:hover {\n",
       "      background-color: #434B5C;\n",
       "      box-shadow: 0px 1px 3px 1px rgba(0, 0, 0, 0.15);\n",
       "      filter: drop-shadow(0px 1px 2px rgba(0, 0, 0, 0.3));\n",
       "      fill: #FFFFFF;\n",
       "    }\n",
       "  </style>\n",
       "\n",
       "      <script>\n",
       "        const buttonEl =\n",
       "          document.querySelector('#df-5ea724f4-86c0-45ae-9d82-e02b1bc8a408 button.colab-df-convert');\n",
       "        buttonEl.style.display =\n",
       "          google.colab.kernel.accessAllowed ? 'block' : 'none';\n",
       "\n",
       "        async function convertToInteractive(key) {\n",
       "          const element = document.querySelector('#df-5ea724f4-86c0-45ae-9d82-e02b1bc8a408');\n",
       "          const dataTable =\n",
       "            await google.colab.kernel.invokeFunction('convertToInteractive',\n",
       "                                                     [key], {});\n",
       "          if (!dataTable) return;\n",
       "\n",
       "          const docLinkHtml = 'Like what you see? Visit the ' +\n",
       "            '<a target=\"_blank\" href=https://colab.research.google.com/notebooks/data_table.ipynb>data table notebook</a>'\n",
       "            + ' to learn more about interactive tables.';\n",
       "          element.innerHTML = '';\n",
       "          dataTable['output_type'] = 'display_data';\n",
       "          await google.colab.output.renderOutput(dataTable, element);\n",
       "          const docLink = document.createElement('div');\n",
       "          docLink.innerHTML = docLinkHtml;\n",
       "          element.appendChild(docLink);\n",
       "        }\n",
       "      </script>\n",
       "    </div>\n",
       "  </div>\n",
       "  "
      ],
      "text/plain": [
       "   ID  Age  Experience  ...  CD Account  Online  CreditCard\n",
       "0   1   25           1  ...           0       0           0\n",
       "1   2   45          19  ...           0       0           0\n",
       "2   3   39          15  ...           0       0           0\n",
       "3   4   35           9  ...           0       0           0\n",
       "4   5   35           8  ...           0       0           1\n",
       "\n",
       "[5 rows x 14 columns]"
      ]
     },
     "execution_count": 4,
     "metadata": {},
     "output_type": "execute_result"
    }
   ],
   "source": [
    "print('Data shape: {}'.format(data.shape))\n",
    "data.head()"
   ]
  },
  {
   "cell_type": "markdown",
   "metadata": {
    "id": "JxaSufwNs5NJ"
   },
   "source": [
    "### 클래스 비율 확인 : Personal Loan 변수"
   ]
  },
  {
   "cell_type": "code",
   "execution_count": null,
   "metadata": {
    "colab": {
     "base_uri": "https://localhost:8080/"
    },
    "id": "d9c_UDxVs5NK",
    "outputId": "9f50518a-ef13-4a80-c69b-876a38989014"
   },
   "outputs": [
    {
     "data": {
      "text/plain": [
       "0       0\n",
       "1       0\n",
       "2       0\n",
       "3       0\n",
       "4       0\n",
       "       ..\n",
       "4995    0\n",
       "4996    0\n",
       "4997    0\n",
       "4998    0\n",
       "4999    0\n",
       "Name: Personal Loan, Length: 5000, dtype: int64"
      ]
     },
     "execution_count": 5,
     "metadata": {},
     "output_type": "execute_result"
    }
   ],
   "source": [
    "data['Personal Loan']"
   ]
  },
  {
   "cell_type": "code",
   "execution_count": null,
   "metadata": {
    "colab": {
     "base_uri": "https://localhost:8080/"
    },
    "id": "gSuum8Ris5NL",
    "outputId": "3fa1e729-f821-49a6-e121-ad0414106cce"
   },
   "outputs": [
    {
     "data": {
      "text/plain": [
       "Personal Loan\n",
       "0    4520\n",
       "1     480\n",
       "Name: Personal Loan, dtype: int64"
      ]
     },
     "execution_count": 6,
     "metadata": {},
     "output_type": "execute_result"
    }
   ],
   "source": [
    "data.groupby('Personal Loan')['Personal Loan'].count()"
   ]
  },
  {
   "cell_type": "markdown",
   "metadata": {
    "id": "3OzHQv69s5NN"
   },
   "source": [
    "### 설명변수(X)와 반응변수(Y) 정의"
   ]
  },
  {
   "cell_type": "code",
   "execution_count": null,
   "metadata": {
    "id": "pKhs1iWus5NO"
   },
   "outputs": [],
   "source": [
    "x = data.drop(labels='Personal Loan', axis=1)\n",
    "y = data['Personal Loan']"
   ]
  },
  {
   "cell_type": "code",
   "execution_count": null,
   "metadata": {
    "colab": {
     "base_uri": "https://localhost:8080/",
     "height": 398
    },
    "id": "x9vd8q3is5NP",
    "outputId": "5a41aed9-0b51-4a2e-a2a4-7bacb4c8b478"
   },
   "outputs": [
    {
     "data": {
      "text/html": [
       "\n",
       "  <div id=\"df-e3421523-6093-4024-9e18-d90ce2a7dde6\">\n",
       "    <div class=\"colab-df-container\">\n",
       "      <div>\n",
       "<style scoped>\n",
       "    .dataframe tbody tr th:only-of-type {\n",
       "        vertical-align: middle;\n",
       "    }\n",
       "\n",
       "    .dataframe tbody tr th {\n",
       "        vertical-align: top;\n",
       "    }\n",
       "\n",
       "    .dataframe thead th {\n",
       "        text-align: right;\n",
       "    }\n",
       "</style>\n",
       "<table border=\"1\" class=\"dataframe\">\n",
       "  <thead>\n",
       "    <tr style=\"text-align: right;\">\n",
       "      <th></th>\n",
       "      <th>ID</th>\n",
       "      <th>Age</th>\n",
       "      <th>Experience</th>\n",
       "      <th>Income</th>\n",
       "      <th>ZIP Code</th>\n",
       "      <th>Family</th>\n",
       "      <th>CCAvg</th>\n",
       "      <th>Education</th>\n",
       "      <th>Mortgage</th>\n",
       "      <th>Securities Account</th>\n",
       "      <th>CD Account</th>\n",
       "      <th>Online</th>\n",
       "      <th>CreditCard</th>\n",
       "    </tr>\n",
       "  </thead>\n",
       "  <tbody>\n",
       "    <tr>\n",
       "      <th>0</th>\n",
       "      <td>1</td>\n",
       "      <td>25</td>\n",
       "      <td>1</td>\n",
       "      <td>49</td>\n",
       "      <td>91107</td>\n",
       "      <td>4</td>\n",
       "      <td>1.6</td>\n",
       "      <td>1</td>\n",
       "      <td>0</td>\n",
       "      <td>1</td>\n",
       "      <td>0</td>\n",
       "      <td>0</td>\n",
       "      <td>0</td>\n",
       "    </tr>\n",
       "    <tr>\n",
       "      <th>1</th>\n",
       "      <td>2</td>\n",
       "      <td>45</td>\n",
       "      <td>19</td>\n",
       "      <td>34</td>\n",
       "      <td>90089</td>\n",
       "      <td>3</td>\n",
       "      <td>1.5</td>\n",
       "      <td>1</td>\n",
       "      <td>0</td>\n",
       "      <td>1</td>\n",
       "      <td>0</td>\n",
       "      <td>0</td>\n",
       "      <td>0</td>\n",
       "    </tr>\n",
       "    <tr>\n",
       "      <th>2</th>\n",
       "      <td>3</td>\n",
       "      <td>39</td>\n",
       "      <td>15</td>\n",
       "      <td>11</td>\n",
       "      <td>94720</td>\n",
       "      <td>1</td>\n",
       "      <td>1.0</td>\n",
       "      <td>1</td>\n",
       "      <td>0</td>\n",
       "      <td>0</td>\n",
       "      <td>0</td>\n",
       "      <td>0</td>\n",
       "      <td>0</td>\n",
       "    </tr>\n",
       "    <tr>\n",
       "      <th>3</th>\n",
       "      <td>4</td>\n",
       "      <td>35</td>\n",
       "      <td>9</td>\n",
       "      <td>100</td>\n",
       "      <td>94112</td>\n",
       "      <td>1</td>\n",
       "      <td>2.7</td>\n",
       "      <td>2</td>\n",
       "      <td>0</td>\n",
       "      <td>0</td>\n",
       "      <td>0</td>\n",
       "      <td>0</td>\n",
       "      <td>0</td>\n",
       "    </tr>\n",
       "    <tr>\n",
       "      <th>4</th>\n",
       "      <td>5</td>\n",
       "      <td>35</td>\n",
       "      <td>8</td>\n",
       "      <td>45</td>\n",
       "      <td>91330</td>\n",
       "      <td>4</td>\n",
       "      <td>1.0</td>\n",
       "      <td>2</td>\n",
       "      <td>0</td>\n",
       "      <td>0</td>\n",
       "      <td>0</td>\n",
       "      <td>0</td>\n",
       "      <td>1</td>\n",
       "    </tr>\n",
       "  </tbody>\n",
       "</table>\n",
       "</div>\n",
       "      <button class=\"colab-df-convert\" onclick=\"convertToInteractive('df-e3421523-6093-4024-9e18-d90ce2a7dde6')\"\n",
       "              title=\"Convert this dataframe to an interactive table.\"\n",
       "              style=\"display:none;\">\n",
       "        \n",
       "  <svg xmlns=\"http://www.w3.org/2000/svg\" height=\"24px\"viewBox=\"0 0 24 24\"\n",
       "       width=\"24px\">\n",
       "    <path d=\"M0 0h24v24H0V0z\" fill=\"none\"/>\n",
       "    <path d=\"M18.56 5.44l.94 2.06.94-2.06 2.06-.94-2.06-.94-.94-2.06-.94 2.06-2.06.94zm-11 1L8.5 8.5l.94-2.06 2.06-.94-2.06-.94L8.5 2.5l-.94 2.06-2.06.94zm10 10l.94 2.06.94-2.06 2.06-.94-2.06-.94-.94-2.06-.94 2.06-2.06.94z\"/><path d=\"M17.41 7.96l-1.37-1.37c-.4-.4-.92-.59-1.43-.59-.52 0-1.04.2-1.43.59L10.3 9.45l-7.72 7.72c-.78.78-.78 2.05 0 2.83L4 21.41c.39.39.9.59 1.41.59.51 0 1.02-.2 1.41-.59l7.78-7.78 2.81-2.81c.8-.78.8-2.07 0-2.86zM5.41 20L4 18.59l7.72-7.72 1.47 1.35L5.41 20z\"/>\n",
       "  </svg>\n",
       "      </button>\n",
       "      \n",
       "  <style>\n",
       "    .colab-df-container {\n",
       "      display:flex;\n",
       "      flex-wrap:wrap;\n",
       "      gap: 12px;\n",
       "    }\n",
       "\n",
       "    .colab-df-convert {\n",
       "      background-color: #E8F0FE;\n",
       "      border: none;\n",
       "      border-radius: 50%;\n",
       "      cursor: pointer;\n",
       "      display: none;\n",
       "      fill: #1967D2;\n",
       "      height: 32px;\n",
       "      padding: 0 0 0 0;\n",
       "      width: 32px;\n",
       "    }\n",
       "\n",
       "    .colab-df-convert:hover {\n",
       "      background-color: #E2EBFA;\n",
       "      box-shadow: 0px 1px 2px rgba(60, 64, 67, 0.3), 0px 1px 3px 1px rgba(60, 64, 67, 0.15);\n",
       "      fill: #174EA6;\n",
       "    }\n",
       "\n",
       "    [theme=dark] .colab-df-convert {\n",
       "      background-color: #3B4455;\n",
       "      fill: #D2E3FC;\n",
       "    }\n",
       "\n",
       "    [theme=dark] .colab-df-convert:hover {\n",
       "      background-color: #434B5C;\n",
       "      box-shadow: 0px 1px 3px 1px rgba(0, 0, 0, 0.15);\n",
       "      filter: drop-shadow(0px 1px 2px rgba(0, 0, 0, 0.3));\n",
       "      fill: #FFFFFF;\n",
       "    }\n",
       "  </style>\n",
       "\n",
       "      <script>\n",
       "        const buttonEl =\n",
       "          document.querySelector('#df-e3421523-6093-4024-9e18-d90ce2a7dde6 button.colab-df-convert');\n",
       "        buttonEl.style.display =\n",
       "          google.colab.kernel.accessAllowed ? 'block' : 'none';\n",
       "\n",
       "        async function convertToInteractive(key) {\n",
       "          const element = document.querySelector('#df-e3421523-6093-4024-9e18-d90ce2a7dde6');\n",
       "          const dataTable =\n",
       "            await google.colab.kernel.invokeFunction('convertToInteractive',\n",
       "                                                     [key], {});\n",
       "          if (!dataTable) return;\n",
       "\n",
       "          const docLinkHtml = 'Like what you see? Visit the ' +\n",
       "            '<a target=\"_blank\" href=https://colab.research.google.com/notebooks/data_table.ipynb>data table notebook</a>'\n",
       "            + ' to learn more about interactive tables.';\n",
       "          element.innerHTML = '';\n",
       "          dataTable['output_type'] = 'display_data';\n",
       "          await google.colab.output.renderOutput(dataTable, element);\n",
       "          const docLink = document.createElement('div');\n",
       "          docLink.innerHTML = docLinkHtml;\n",
       "          element.appendChild(docLink);\n",
       "        }\n",
       "      </script>\n",
       "    </div>\n",
       "  </div>\n",
       "  "
      ],
      "text/plain": [
       "   ID  Age  Experience  ...  CD Account  Online  CreditCard\n",
       "0   1   25           1  ...           0       0           0\n",
       "1   2   45          19  ...           0       0           0\n",
       "2   3   39          15  ...           0       0           0\n",
       "3   4   35           9  ...           0       0           0\n",
       "4   5   35           8  ...           0       0           1\n",
       "\n",
       "[5 rows x 13 columns]"
      ]
     },
     "metadata": {},
     "output_type": "display_data"
    },
    {
     "data": {
      "text/plain": [
       "0    0\n",
       "1    0\n",
       "2    0\n",
       "3    0\n",
       "4    0\n",
       "Name: Personal Loan, dtype: int64"
      ]
     },
     "metadata": {},
     "output_type": "display_data"
    }
   ],
   "source": [
    "display(x.head())\n",
    "display(y.head())"
   ]
  },
  {
   "cell_type": "markdown",
   "metadata": {
    "id": "hMSqC3B8s5NQ"
   },
   "source": [
    "### 학습 데이터(Training Dataset)와 테스트 데이터(Testing Dataset) 분리\n",
    "- 학습데이터와 테스트 데이터의 클래스 비율이 달라지지 않도록 stratify 옵션 사용"
   ]
  },
  {
   "cell_type": "code",
   "execution_count": null,
   "metadata": {
    "id": "bgSaTJ_ps5NR"
   },
   "outputs": [],
   "source": [
    "train_x, test_x, train_y, test_y = train_test_split(x, y, stratify=y, test_size=0.3)"
   ]
  },
  {
   "cell_type": "markdown",
   "metadata": {
    "id": "AOJWiOvrs5NS"
   },
   "source": [
    "### Matplotlib 을 이용한 클래스 비율 plotting\n",
    "- import matplotlib.pyplot as plt\n",
    "- plt.figure: plot을 그리기 위해 가장 먼저 선언 & plot 크기 지정\n",
    "- plt.subplot: plot을 한번에 여러개 그리기 위해 선언(행크기/열크기/열번호or행번호)\n",
    "- plt.hist: 히스토그램\n",
    "- plt.plot(x,y): 2차원\n",
    "- plt.xlim: x축 (최소,최대) 지정\n",
    "- plt.ylim: y축 (최소,최대) 지정\n",
    "- plt.title: 해당 plot의 제목 지정\n",
    "- plt.show(): plot을 그리기 위해 가장 \"마지막\" 선언"
   ]
  },
  {
   "cell_type": "code",
   "execution_count": null,
   "metadata": {
    "colab": {
     "base_uri": "https://localhost:8080/",
     "height": 318
    },
    "id": "GAxA4kU6s5NT",
    "outputId": "0622c303-4c1f-404b-b2c0-d4d693b2a160"
   },
   "outputs": [
    {
     "data": {
      "image/png": "[encoded data removed]",
      "text/plain": [
       "<Figure size 1296x432 with 2 Axes>"
      ]
     },
     "metadata": {
      "needs_background": "light"
     },
     "output_type": "display_data"
    }
   ],
   "source": [
    "plt.figure(figsize=(18, 6))\n",
    "\n",
    "plt.subplot(121)\n",
    "plt.hist(train_y)\n",
    "plt.ylim(0, 3500)\n",
    "plt.xticks(np.arange(0, 2, 1))\n",
    "plt.title('Training Data)')\n",
    "\n",
    "plt.subplot(122)\n",
    "plt.hist(test_y)\n",
    "plt.ylim(0, 3500)\n",
    "plt.xticks(np.arange(0, 2, 1))\n",
    "plt.title('Testing Data')\n",
    "plt.show()"
   ]
  },
  {
   "cell_type": "markdown",
   "metadata": {
    "id": "X4OTL_y_s5NU"
   },
   "source": [
    "### 정규화 : Standardization(표준정규화) with Standard Scaler\n",
    "\n",
    "\n",
    "\n",
    "- 설명변수(X) 내 변수별 평균이 0이 되도록 변환\n",
    "- Training Data를 기준으로 Scaler를 구성한 뒤, Testing Data에 Scaler를 적용"
   ]
  },
  {
   "cell_type": "code",
   "execution_count": null,
   "metadata": {
    "colab": {
     "base_uri": "https://localhost:8080/",
     "height": 382
    },
    "id": "i6XGRa1Es5NV",
    "outputId": "0fdbe628-2033-461c-de97-28679afe6d24",
    "scrolled": true
   },
   "outputs": [
    {
     "data": {
      "text/html": [
       "\n",
       "  <div id=\"df-09d2b78c-90ec-4c94-bc6a-ec3b89c29625\">\n",
       "    <div class=\"colab-df-container\">\n",
       "      <div>\n",
       "<style scoped>\n",
       "    .dataframe tbody tr th:only-of-type {\n",
       "        vertical-align: middle;\n",
       "    }\n",
       "\n",
       "    .dataframe tbody tr th {\n",
       "        vertical-align: top;\n",
       "    }\n",
       "\n",
       "    .dataframe thead th {\n",
       "        text-align: right;\n",
       "    }\n",
       "</style>\n",
       "<table border=\"1\" class=\"dataframe\">\n",
       "  <thead>\n",
       "    <tr style=\"text-align: right;\">\n",
       "      <th></th>\n",
       "      <th>ID</th>\n",
       "      <th>Age</th>\n",
       "      <th>Experience</th>\n",
       "      <th>Income</th>\n",
       "      <th>ZIP Code</th>\n",
       "      <th>Family</th>\n",
       "      <th>CCAvg</th>\n",
       "      <th>Education</th>\n",
       "      <th>Mortgage</th>\n",
       "      <th>Securities Account</th>\n",
       "      <th>CD Account</th>\n",
       "      <th>Online</th>\n",
       "      <th>CreditCard</th>\n",
       "    </tr>\n",
       "  </thead>\n",
       "  <tbody>\n",
       "    <tr>\n",
       "      <th>count</th>\n",
       "      <td>5000.000000</td>\n",
       "      <td>5000.000000</td>\n",
       "      <td>5000.000000</td>\n",
       "      <td>5000.000000</td>\n",
       "      <td>5000.000000</td>\n",
       "      <td>5000.000000</td>\n",
       "      <td>5000.000000</td>\n",
       "      <td>5000.000000</td>\n",
       "      <td>5000.000000</td>\n",
       "      <td>5000.000000</td>\n",
       "      <td>5000.00000</td>\n",
       "      <td>5000.000000</td>\n",
       "      <td>5000.000000</td>\n",
       "    </tr>\n",
       "    <tr>\n",
       "      <th>mean</th>\n",
       "      <td>2500.500000</td>\n",
       "      <td>45.338400</td>\n",
       "      <td>20.104600</td>\n",
       "      <td>73.774200</td>\n",
       "      <td>93152.503000</td>\n",
       "      <td>2.396400</td>\n",
       "      <td>1.937913</td>\n",
       "      <td>1.881000</td>\n",
       "      <td>56.498800</td>\n",
       "      <td>0.104400</td>\n",
       "      <td>0.06040</td>\n",
       "      <td>0.596800</td>\n",
       "      <td>0.294000</td>\n",
       "    </tr>\n",
       "    <tr>\n",
       "      <th>std</th>\n",
       "      <td>1443.520003</td>\n",
       "      <td>11.463166</td>\n",
       "      <td>11.467954</td>\n",
       "      <td>46.033729</td>\n",
       "      <td>2121.852197</td>\n",
       "      <td>1.147663</td>\n",
       "      <td>1.747666</td>\n",
       "      <td>0.839869</td>\n",
       "      <td>101.713802</td>\n",
       "      <td>0.305809</td>\n",
       "      <td>0.23825</td>\n",
       "      <td>0.490589</td>\n",
       "      <td>0.455637</td>\n",
       "    </tr>\n",
       "    <tr>\n",
       "      <th>min</th>\n",
       "      <td>1.000000</td>\n",
       "      <td>23.000000</td>\n",
       "      <td>-3.000000</td>\n",
       "      <td>8.000000</td>\n",
       "      <td>9307.000000</td>\n",
       "      <td>1.000000</td>\n",
       "      <td>0.000000</td>\n",
       "      <td>1.000000</td>\n",
       "      <td>0.000000</td>\n",
       "      <td>0.000000</td>\n",
       "      <td>0.00000</td>\n",
       "      <td>0.000000</td>\n",
       "      <td>0.000000</td>\n",
       "    </tr>\n",
       "    <tr>\n",
       "      <th>25%</th>\n",
       "      <td>1250.750000</td>\n",
       "      <td>35.000000</td>\n",
       "      <td>10.000000</td>\n",
       "      <td>39.000000</td>\n",
       "      <td>91911.000000</td>\n",
       "      <td>1.000000</td>\n",
       "      <td>0.700000</td>\n",
       "      <td>1.000000</td>\n",
       "      <td>0.000000</td>\n",
       "      <td>0.000000</td>\n",
       "      <td>0.00000</td>\n",
       "      <td>0.000000</td>\n",
       "      <td>0.000000</td>\n",
       "    </tr>\n",
       "    <tr>\n",
       "      <th>50%</th>\n",
       "      <td>2500.500000</td>\n",
       "      <td>45.000000</td>\n",
       "      <td>20.000000</td>\n",
       "      <td>64.000000</td>\n",
       "      <td>93437.000000</td>\n",
       "      <td>2.000000</td>\n",
       "      <td>1.500000</td>\n",
       "      <td>2.000000</td>\n",
       "      <td>0.000000</td>\n",
       "      <td>0.000000</td>\n",
       "      <td>0.00000</td>\n",
       "      <td>1.000000</td>\n",
       "      <td>0.000000</td>\n",
       "    </tr>\n",
       "    <tr>\n",
       "      <th>75%</th>\n",
       "      <td>3750.250000</td>\n",
       "      <td>55.000000</td>\n",
       "      <td>30.000000</td>\n",
       "      <td>98.000000</td>\n",
       "      <td>94608.000000</td>\n",
       "      <td>3.000000</td>\n",
       "      <td>2.500000</td>\n",
       "      <td>3.000000</td>\n",
       "      <td>101.000000</td>\n",
       "      <td>0.000000</td>\n",
       "      <td>0.00000</td>\n",
       "      <td>1.000000</td>\n",
       "      <td>1.000000</td>\n",
       "    </tr>\n",
       "    <tr>\n",
       "      <th>max</th>\n",
       "      <td>5000.000000</td>\n",
       "      <td>67.000000</td>\n",
       "      <td>43.000000</td>\n",
       "      <td>224.000000</td>\n",
       "      <td>96651.000000</td>\n",
       "      <td>4.000000</td>\n",
       "      <td>10.000000</td>\n",
       "      <td>3.000000</td>\n",
       "      <td>635.000000</td>\n",
       "      <td>1.000000</td>\n",
       "      <td>1.00000</td>\n",
       "      <td>1.000000</td>\n",
       "      <td>1.000000</td>\n",
       "    </tr>\n",
       "  </tbody>\n",
       "</table>\n",
       "</div>\n",
       "      <button class=\"colab-df-convert\" onclick=\"convertToInteractive('df-09d2b78c-90ec-4c94-bc6a-ec3b89c29625')\"\n",
       "              title=\"Convert this dataframe to an interactive table.\"\n",
       "              style=\"display:none;\">\n",
       "        \n",
       "  <svg xmlns=\"http://www.w3.org/2000/svg\" height=\"24px\"viewBox=\"0 0 24 24\"\n",
       "       width=\"24px\">\n",
       "    <path d=\"M0 0h24v24H0V0z\" fill=\"none\"/>\n",
       "    <path d=\"M18.56 5.44l.94 2.06.94-2.06 2.06-.94-2.06-.94-.94-2.06-.94 2.06-2.06.94zm-11 1L8.5 8.5l.94-2.06 2.06-.94-2.06-.94L8.5 2.5l-.94 2.06-2.06.94zm10 10l.94 2.06.94-2.06 2.06-.94-2.06-.94-.94-2.06-.94 2.06-2.06.94z\"/><path d=\"M17.41 7.96l-1.37-1.37c-.4-.4-.92-.59-1.43-.59-.52 0-1.04.2-1.43.59L10.3 9.45l-7.72 7.72c-.78.78-.78 2.05 0 2.83L4 21.41c.39.39.9.59 1.41.59.51 0 1.02-.2 1.41-.59l7.78-7.78 2.81-2.81c.8-.78.8-2.07 0-2.86zM5.41 20L4 18.59l7.72-7.72 1.47 1.35L5.41 20z\"/>\n",
       "  </svg>\n",
       "      </button>\n",
       "      \n",
       "  <style>\n",
       "    .colab-df-container {\n",
       "      display:flex;\n",
       "      flex-wrap:wrap;\n",
       "      gap: 12px;\n",
       "    }\n",
       "\n",
       "    .colab-df-convert {\n",
       "      background-color: #E8F0FE;\n",
       "      border: none;\n",
       "      border-radius: 50%;\n",
       "      cursor: pointer;\n",
       "      display: none;\n",
       "      fill: #1967D2;\n",
       "      height: 32px;\n",
       "      padding: 0 0 0 0;\n",
       "      width: 32px;\n",
       "    }\n",
       "\n",
       "    .colab-df-convert:hover {\n",
       "      background-color: #E2EBFA;\n",
       "      box-shadow: 0px 1px 2px rgba(60, 64, 67, 0.3), 0px 1px 3px 1px rgba(60, 64, 67, 0.15);\n",
       "      fill: #174EA6;\n",
       "    }\n",
       "\n",
       "    [theme=dark] .colab-df-convert {\n",
       "      background-color: #3B4455;\n",
       "      fill: #D2E3FC;\n",
       "    }\n",
       "\n",
       "    [theme=dark] .colab-df-convert:hover {\n",
       "      background-color: #434B5C;\n",
       "      box-shadow: 0px 1px 3px 1px rgba(0, 0, 0, 0.15);\n",
       "      filter: drop-shadow(0px 1px 2px rgba(0, 0, 0, 0.3));\n",
       "      fill: #FFFFFF;\n",
       "    }\n",
       "  </style>\n",
       "\n",
       "      <script>\n",
       "        const buttonEl =\n",
       "          document.querySelector('#df-09d2b78c-90ec-4c94-bc6a-ec3b89c29625 button.colab-df-convert');\n",
       "        buttonEl.style.display =\n",
       "          google.colab.kernel.accessAllowed ? 'block' : 'none';\n",
       "\n",
       "        async function convertToInteractive(key) {\n",
       "          const element = document.querySelector('#df-09d2b78c-90ec-4c94-bc6a-ec3b89c29625');\n",
       "          const dataTable =\n",
       "            await google.colab.kernel.invokeFunction('convertToInteractive',\n",
       "                                                     [key], {});\n",
       "          if (!dataTable) return;\n",
       "\n",
       "          const docLinkHtml = 'Like what you see? Visit the ' +\n",
       "            '<a target=\"_blank\" href=https://colab.research.google.com/notebooks/data_table.ipynb>data table notebook</a>'\n",
       "            + ' to learn more about interactive tables.';\n",
       "          element.innerHTML = '';\n",
       "          dataTable['output_type'] = 'display_data';\n",
       "          await google.colab.output.renderOutput(dataTable, element);\n",
       "          const docLink = document.createElement('div');\n",
       "          docLink.innerHTML = docLinkHtml;\n",
       "          element.appendChild(docLink);\n",
       "        }\n",
       "      </script>\n",
       "    </div>\n",
       "  </div>\n",
       "  "
      ],
      "text/plain": [
       "                ID          Age  ...       Online   CreditCard\n",
       "count  5000.000000  5000.000000  ...  5000.000000  5000.000000\n",
       "mean   2500.500000    45.338400  ...     0.596800     0.294000\n",
       "std    1443.520003    11.463166  ...     0.490589     0.455637\n",
       "min       1.000000    23.000000  ...     0.000000     0.000000\n",
       "25%    1250.750000    35.000000  ...     0.000000     0.000000\n",
       "50%    2500.500000    45.000000  ...     1.000000     0.000000\n",
       "75%    3750.250000    55.000000  ...     1.000000     1.000000\n",
       "max    5000.000000    67.000000  ...     1.000000     1.000000\n",
       "\n",
       "[8 rows x 13 columns]"
      ]
     },
     "execution_count": 11,
     "metadata": {},
     "output_type": "execute_result"
    }
   ],
   "source": [
    "x.describe()"
   ]
  },
  {
   "cell_type": "code",
   "execution_count": null,
   "metadata": {
    "id": "NMS1gQIBs5NW"
   },
   "outputs": [],
   "source": [
    "scaler = StandardScaler()\n",
    "scaler.fit(train_x)\n",
    "\n",
    "train_x = scaler.transform(train_x)\n",
    "test_x = scaler.transform(test_x)"
   ]
  },
  {
   "cell_type": "code",
   "execution_count": null,
   "metadata": {
    "colab": {
     "base_uri": "https://localhost:8080/",
     "height": 468
    },
    "id": "xQrA__xFs5NX",
    "outputId": "7eb2a7e1-bda1-450e-deef-8cd304718bae"
   },
   "outputs": [
    {
     "data": {
      "text/html": [
       "\n",
       "  <div id=\"df-66cf8b4e-cf3f-4438-8b09-dcbfb1c0f24b\">\n",
       "    <div class=\"colab-df-container\">\n",
       "      <div>\n",
       "<style scoped>\n",
       "    .dataframe tbody tr th:only-of-type {\n",
       "        vertical-align: middle;\n",
       "    }\n",
       "\n",
       "    .dataframe tbody tr th {\n",
       "        vertical-align: top;\n",
       "    }\n",
       "\n",
       "    .dataframe thead th {\n",
       "        text-align: right;\n",
       "    }\n",
       "</style>\n",
       "<table border=\"1\" class=\"dataframe\">\n",
       "  <thead>\n",
       "    <tr style=\"text-align: right;\">\n",
       "      <th></th>\n",
       "      <th>ID</th>\n",
       "      <th>Age</th>\n",
       "      <th>Experience</th>\n",
       "      <th>Income</th>\n",
       "      <th>ZIP Code</th>\n",
       "      <th>Family</th>\n",
       "      <th>CCAvg</th>\n",
       "      <th>Education</th>\n",
       "      <th>Mortgage</th>\n",
       "      <th>Securities Account</th>\n",
       "      <th>CD Account</th>\n",
       "      <th>Online</th>\n",
       "      <th>CreditCard</th>\n",
       "    </tr>\n",
       "  </thead>\n",
       "  <tbody>\n",
       "    <tr>\n",
       "      <th>count</th>\n",
       "      <td>3.500000e+03</td>\n",
       "      <td>3.500000e+03</td>\n",
       "      <td>3.500000e+03</td>\n",
       "      <td>3.500000e+03</td>\n",
       "      <td>3.500000e+03</td>\n",
       "      <td>3.500000e+03</td>\n",
       "      <td>3.500000e+03</td>\n",
       "      <td>3.500000e+03</td>\n",
       "      <td>3.500000e+03</td>\n",
       "      <td>3.500000e+03</td>\n",
       "      <td>3.500000e+03</td>\n",
       "      <td>3.500000e+03</td>\n",
       "      <td>3.500000e+03</td>\n",
       "    </tr>\n",
       "    <tr>\n",
       "      <th>mean</th>\n",
       "      <td>1.127987e-16</td>\n",
       "      <td>1.363988e-17</td>\n",
       "      <td>-3.559058e-17</td>\n",
       "      <td>-5.051118e-17</td>\n",
       "      <td>6.433584e-16</td>\n",
       "      <td>6.800909e-17</td>\n",
       "      <td>-3.854377e-16</td>\n",
       "      <td>3.222660e-16</td>\n",
       "      <td>9.595816e-16</td>\n",
       "      <td>1.935277e-16</td>\n",
       "      <td>6.377438e-16</td>\n",
       "      <td>3.006484e-16</td>\n",
       "      <td>-4.179514e-16</td>\n",
       "    </tr>\n",
       "    <tr>\n",
       "      <th>std</th>\n",
       "      <td>1.000143e+00</td>\n",
       "      <td>1.000143e+00</td>\n",
       "      <td>1.000143e+00</td>\n",
       "      <td>1.000143e+00</td>\n",
       "      <td>1.000143e+00</td>\n",
       "      <td>1.000143e+00</td>\n",
       "      <td>1.000143e+00</td>\n",
       "      <td>1.000143e+00</td>\n",
       "      <td>1.000143e+00</td>\n",
       "      <td>1.000143e+00</td>\n",
       "      <td>1.000143e+00</td>\n",
       "      <td>1.000143e+00</td>\n",
       "      <td>1.000143e+00</td>\n",
       "    </tr>\n",
       "    <tr>\n",
       "      <th>min</th>\n",
       "      <td>-1.723270e+00</td>\n",
       "      <td>-1.951843e+00</td>\n",
       "      <td>-2.016032e+00</td>\n",
       "      <td>-1.424003e+00</td>\n",
       "      <td>-1.798221e+00</td>\n",
       "      <td>-1.214484e+00</td>\n",
       "      <td>-1.117153e+00</td>\n",
       "      <td>-1.035209e+00</td>\n",
       "      <td>-5.556921e-01</td>\n",
       "      <td>-3.401700e-01</td>\n",
       "      <td>-2.551956e-01</td>\n",
       "      <td>-1.224745e+00</td>\n",
       "      <td>-6.435382e-01</td>\n",
       "    </tr>\n",
       "    <tr>\n",
       "      <th>25%</th>\n",
       "      <td>-8.637495e-01</td>\n",
       "      <td>-9.057861e-01</td>\n",
       "      <td>-8.848685e-01</td>\n",
       "      <td>-7.699677e-01</td>\n",
       "      <td>-6.900939e-01</td>\n",
       "      <td>-1.214484e+00</td>\n",
       "      <td>-7.072336e-01</td>\n",
       "      <td>-1.035209e+00</td>\n",
       "      <td>-5.556921e-01</td>\n",
       "      <td>-3.401700e-01</td>\n",
       "      <td>-2.551956e-01</td>\n",
       "      <td>-1.224745e+00</td>\n",
       "      <td>-6.435382e-01</td>\n",
       "    </tr>\n",
       "    <tr>\n",
       "      <th>50%</th>\n",
       "      <td>-1.912325e-02</td>\n",
       "      <td>5.309987e-02</td>\n",
       "      <td>-1.474242e-02</td>\n",
       "      <td>-2.031371e-01</td>\n",
       "      <td>8.965706e-02</td>\n",
       "      <td>-3.452215e-01</td>\n",
       "      <td>-2.387543e-01</td>\n",
       "      <td>1.570356e-01</td>\n",
       "      <td>-5.556921e-01</td>\n",
       "      <td>-3.401700e-01</td>\n",
       "      <td>-2.551956e-01</td>\n",
       "      <td>8.164966e-01</td>\n",
       "      <td>-6.435382e-01</td>\n",
       "    </tr>\n",
       "    <tr>\n",
       "      <th>75%</th>\n",
       "      <td>8.603133e-01</td>\n",
       "      <td>8.376429e-01</td>\n",
       "      <td>8.553836e-01</td>\n",
       "      <td>5.381029e-01</td>\n",
       "      <td>8.293621e-01</td>\n",
       "      <td>5.240413e-01</td>\n",
       "      <td>3.468448e-01</td>\n",
       "      <td>1.349280e+00</td>\n",
       "      <td>4.389667e-01</td>\n",
       "      <td>-3.401700e-01</td>\n",
       "      <td>-2.551956e-01</td>\n",
       "      <td>8.164966e-01</td>\n",
       "      <td>1.553909e+00</td>\n",
       "    </tr>\n",
       "    <tr>\n",
       "      <th>max</th>\n",
       "      <td>1.739057e+00</td>\n",
       "      <td>1.883700e+00</td>\n",
       "      <td>1.986547e+00</td>\n",
       "      <td>3.285051e+00</td>\n",
       "      <td>2.003851e+00</td>\n",
       "      <td>1.393304e+00</td>\n",
       "      <td>4.738838e+00</td>\n",
       "      <td>1.349280e+00</td>\n",
       "      <td>5.520590e+00</td>\n",
       "      <td>2.939706e+00</td>\n",
       "      <td>3.918564e+00</td>\n",
       "      <td>8.164966e-01</td>\n",
       "      <td>1.553909e+00</td>\n",
       "    </tr>\n",
       "  </tbody>\n",
       "</table>\n",
       "</div>\n",
       "      <button class=\"colab-df-convert\" onclick=\"convertToInteractive('df-66cf8b4e-cf3f-4438-8b09-dcbfb1c0f24b')\"\n",
       "              title=\"Convert this dataframe to an interactive table.\"\n",
       "              style=\"display:none;\">\n",
       "        \n",
       "  <svg xmlns=\"http://www.w3.org/2000/svg\" height=\"24px\"viewBox=\"0 0 24 24\"\n",
       "       width=\"24px\">\n",
       "    <path d=\"M0 0h24v24H0V0z\" fill=\"none\"/>\n",
       "    <path d=\"M18.56 5.44l.94 2.06.94-2.06 2.06-.94-2.06-.94-.94-2.06-.94 2.06-2.06.94zm-11 1L8.5 8.5l.94-2.06 2.06-.94-2.06-.94L8.5 2.5l-.94 2.06-2.06.94zm10 10l.94 2.06.94-2.06 2.06-.94-2.06-.94-.94-2.06-.94 2.06-2.06.94z\"/><path d=\"M17.41 7.96l-1.37-1.37c-.4-.4-.92-.59-1.43-.59-.52 0-1.04.2-1.43.59L10.3 9.45l-7.72 7.72c-.78.78-.78 2.05 0 2.83L4 21.41c.39.39.9.59 1.41.59.51 0 1.02-.2 1.41-.59l7.78-7.78 2.81-2.81c.8-.78.8-2.07 0-2.86zM5.41 20L4 18.59l7.72-7.72 1.47 1.35L5.41 20z\"/>\n",
       "  </svg>\n",
       "      </button>\n",
       "      \n",
       "  <style>\n",
       "    .colab-df-container {\n",
       "      display:flex;\n",
       "      flex-wrap:wrap;\n",
       "      gap: 12px;\n",
       "    }\n",
       "\n",
       "    .colab-df-convert {\n",
       "      background-color: #E8F0FE;\n",
       "      border: none;\n",
       "      border-radius: 50%;\n",
       "      cursor: pointer;\n",
       "      display: none;\n",
       "      fill: #1967D2;\n",
       "      height: 32px;\n",
       "      padding: 0 0 0 0;\n",
       "      width: 32px;\n",
       "    }\n",
       "\n",
       "    .colab-df-convert:hover {\n",
       "      background-color: #E2EBFA;\n",
       "      box-shadow: 0px 1px 2px rgba(60, 64, 67, 0.3), 0px 1px 3px 1px rgba(60, 64, 67, 0.15);\n",
       "      fill: #174EA6;\n",
       "    }\n",
       "\n",
       "    [theme=dark] .colab-df-convert {\n",
       "      background-color: #3B4455;\n",
       "      fill: #D2E3FC;\n",
       "    }\n",
       "\n",
       "    [theme=dark] .colab-df-convert:hover {\n",
       "      background-color: #434B5C;\n",
       "      box-shadow: 0px 1px 3px 1px rgba(0, 0, 0, 0.15);\n",
       "      filter: drop-shadow(0px 1px 2px rgba(0, 0, 0, 0.3));\n",
       "      fill: #FFFFFF;\n",
       "    }\n",
       "  </style>\n",
       "\n",
       "      <script>\n",
       "        const buttonEl =\n",
       "          document.querySelector('#df-66cf8b4e-cf3f-4438-8b09-dcbfb1c0f24b button.colab-df-convert');\n",
       "        buttonEl.style.display =\n",
       "          google.colab.kernel.accessAllowed ? 'block' : 'none';\n",
       "\n",
       "        async function convertToInteractive(key) {\n",
       "          const element = document.querySelector('#df-66cf8b4e-cf3f-4438-8b09-dcbfb1c0f24b');\n",
       "          const dataTable =\n",
       "            await google.colab.kernel.invokeFunction('convertToInteractive',\n",
       "                                                     [key], {});\n",
       "          if (!dataTable) return;\n",
       "\n",
       "          const docLinkHtml = 'Like what you see? Visit the ' +\n",
       "            '<a target=\"_blank\" href=https://colab.research.google.com/notebooks/data_table.ipynb>data table notebook</a>'\n",
       "            + ' to learn more about interactive tables.';\n",
       "          element.innerHTML = '';\n",
       "          dataTable['output_type'] = 'display_data';\n",
       "          await google.colab.output.renderOutput(dataTable, element);\n",
       "          const docLink = document.createElement('div');\n",
       "          docLink.innerHTML = docLinkHtml;\n",
       "          element.appendChild(docLink);\n",
       "        }\n",
       "      </script>\n",
       "    </div>\n",
       "  </div>\n",
       "  "
      ],
      "text/plain": [
       "                 ID           Age  ...        Online    CreditCard\n",
       "count  3.500000e+03  3.500000e+03  ...  3.500000e+03  3.500000e+03\n",
       "mean   1.127987e-16  1.363988e-17  ...  3.006484e-16 -4.179514e-16\n",
       "std    1.000143e+00  1.000143e+00  ...  1.000143e+00  1.000143e+00\n",
       "min   -1.723270e+00 -1.951843e+00  ... -1.224745e+00 -6.435382e-01\n",
       "25%   -8.637495e-01 -9.057861e-01  ... -1.224745e+00 -6.435382e-01\n",
       "50%   -1.912325e-02  5.309987e-02  ...  8.164966e-01 -6.435382e-01\n",
       "75%    8.603133e-01  8.376429e-01  ...  8.164966e-01  1.553909e+00\n",
       "max    1.739057e+00  1.883700e+00  ...  8.164966e-01  1.553909e+00\n",
       "\n",
       "[8 rows x 13 columns]"
      ]
     },
     "execution_count": 13,
     "metadata": {},
     "output_type": "execute_result"
    }
   ],
   "source": [
    "pd.DataFrame(train_x, columns = x.columns).describe()"
   ]
  },
  {
   "cell_type": "markdown",
   "metadata": {
    "id": "bF_uqESzs5NY"
   },
   "source": [
    "## 1-2. 모델링: Multilayer Perceptron (MLP) Classifier"
   ]
  },
  {
   "cell_type": "markdown",
   "metadata": {
    "id": "Q0WrGtqNs5NY"
   },
   "source": [
    "<a href='http://scikit-learn.org/stable/modules/generated/sklearn.neural_network.MLPClassifier.html'> Scikit-Learn MLP Classifier Manual </a>"
   ]
  },
  {
   "cell_type": "markdown",
   "metadata": {
    "id": "HADwNaoEs5NZ"
   },
   "source": [
    "### MLP Classifier 구조 및 정의"
   ]
  },
  {
   "cell_type": "code",
   "execution_count": null,
   "metadata": {
    "id": "l68EPkzls5NZ"
   },
   "outputs": [],
   "source": [
    "clf_mlp = MLPClassifier(activation='relu', alpha=0.0001, batch_size=10,\n",
    "                        hidden_layer_sizes=(8), max_iter=500,\n",
    "                        solver='adam', verbose = True, random_state = 2025)"
   ]
  },
  {
   "cell_type": "markdown",
   "metadata": {
    "id": "UcpNJ83ls5Na"
   },
   "source": [
    "### MLP Classifier 학습"
   ]
  },
  {
   "cell_type": "code",
   "execution_count": null,
   "metadata": {
    "colab": {
     "base_uri": "https://localhost:8080/"
    },
    "id": "WKMeTr0Rs5Na",
    "outputId": "01afc3e2-a869-4ee5-e7e9-12664576d428",
    "scrolled": true
   },
   "outputs": [
    {
     "name": "stdout",
     "output_type": "stream",
     "text": [
      "Iteration 1, loss = 0.32957938\n",
      "Iteration 2, loss = 0.20677439\n",
      "Iteration 3, loss = 0.16921535\n",
      "Iteration 4, loss = 0.14513062\n",
      "Iteration 5, loss = 0.12731288\n",
      "Iteration 6, loss = 0.11480439\n",
      "Iteration 7, loss = 0.10560306\n",
      "Iteration 8, loss = 0.09879232\n",
      "Iteration 9, loss = 0.09373508\n",
      "Iteration 10, loss = 0.08961416\n",
      "Iteration 11, loss = 0.08610270\n",
      "Iteration 12, loss = 0.08309319\n",
      "Iteration 13, loss = 0.08076821\n",
      "Iteration 14, loss = 0.07888079\n",
      "Iteration 15, loss = 0.07749736\n",
      "Iteration 16, loss = 0.07567800\n",
      "Iteration 17, loss = 0.07428074\n",
      "Iteration 18, loss = 0.07270342\n",
      "Iteration 19, loss = 0.07186184\n",
      "Iteration 20, loss = 0.07090092\n",
      "Iteration 21, loss = 0.06980614\n",
      "Iteration 22, loss = 0.06878484\n",
      "Iteration 23, loss = 0.06803898\n",
      "Iteration 24, loss = 0.06715053\n",
      "Iteration 25, loss = 0.06611990\n",
      "Iteration 26, loss = 0.06552719\n",
      "Iteration 27, loss = 0.06493951\n",
      "Iteration 28, loss = 0.06405400\n",
      "Iteration 29, loss = 0.06366206\n",
      "Iteration 30, loss = 0.06278228\n",
      "Iteration 31, loss = 0.06241881\n",
      "Iteration 32, loss = 0.06212597\n",
      "Iteration 33, loss = 0.06167876\n",
      "Iteration 34, loss = 0.06098139\n",
      "Iteration 35, loss = 0.06053153\n",
      "Iteration 36, loss = 0.06025541\n",
      "Iteration 37, loss = 0.05989754\n",
      "Iteration 38, loss = 0.05932178\n",
      "Iteration 39, loss = 0.05903529\n",
      "Iteration 40, loss = 0.05853872\n",
      "Iteration 41, loss = 0.05799907\n",
      "Iteration 42, loss = 0.05793397\n",
      "Iteration 43, loss = 0.05742509\n",
      "Iteration 44, loss = 0.05727552\n",
      "Iteration 45, loss = 0.05665848\n",
      "Iteration 46, loss = 0.05651465\n",
      "Iteration 47, loss = 0.05619325\n",
      "Iteration 48, loss = 0.05575816\n",
      "Iteration 49, loss = 0.05561392\n",
      "Iteration 50, loss = 0.05539247\n",
      "Iteration 51, loss = 0.05513528\n",
      "Iteration 52, loss = 0.05493801\n",
      "Iteration 53, loss = 0.05480299\n",
      "Iteration 54, loss = 0.05464956\n",
      "Iteration 55, loss = 0.05423238\n",
      "Iteration 56, loss = 0.05406143\n",
      "Iteration 57, loss = 0.05397450\n",
      "Iteration 58, loss = 0.05376513\n",
      "Iteration 59, loss = 0.05344128\n",
      "Iteration 60, loss = 0.05324726\n",
      "Iteration 61, loss = 0.05292305\n",
      "Iteration 62, loss = 0.05300900\n",
      "Iteration 63, loss = 0.05242043\n",
      "Iteration 64, loss = 0.05248928\n",
      "Iteration 65, loss = 0.05230219\n",
      "Iteration 66, loss = 0.05231269\n",
      "Iteration 67, loss = 0.05188677\n",
      "Iteration 68, loss = 0.05165232\n",
      "Iteration 69, loss = 0.05155776\n",
      "Iteration 70, loss = 0.05144086\n",
      "Iteration 71, loss = 0.05126572\n",
      "Iteration 72, loss = 0.05079230\n",
      "Iteration 73, loss = 0.05081783\n",
      "Iteration 74, loss = 0.05083319\n",
      "Iteration 75, loss = 0.05045239\n",
      "Iteration 76, loss = 0.05024120\n",
      "Iteration 77, loss = 0.04986281\n",
      "Iteration 78, loss = 0.04991608\n",
      "Iteration 79, loss = 0.04965772\n",
      "Iteration 80, loss = 0.04954013\n",
      "Iteration 81, loss = 0.04945980\n",
      "Iteration 82, loss = 0.04890992\n",
      "Iteration 83, loss = 0.04914677\n",
      "Iteration 84, loss = 0.04873155\n",
      "Iteration 85, loss = 0.04854667\n",
      "Iteration 86, loss = 0.04820620\n",
      "Iteration 87, loss = 0.04816577\n",
      "Iteration 88, loss = 0.04801016\n",
      "Iteration 89, loss = 0.04781442\n",
      "Iteration 90, loss = 0.04750829\n",
      "Iteration 91, loss = 0.04747975\n",
      "Iteration 92, loss = 0.04723955\n",
      "Iteration 93, loss = 0.04693408\n",
      "Iteration 94, loss = 0.04639029\n",
      "Iteration 95, loss = 0.04646935\n",
      "Iteration 96, loss = 0.04606931\n",
      "Iteration 97, loss = 0.04601140\n",
      "Iteration 98, loss = 0.04602097\n",
      "Iteration 99, loss = 0.04549148\n",
      "Iteration 100, loss = 0.04534935\n",
      "Iteration 101, loss = 0.04519484\n",
      "Iteration 102, loss = 0.04527390\n",
      "Iteration 103, loss = 0.04497052\n",
      "Iteration 104, loss = 0.04466427\n",
      "Iteration 105, loss = 0.04430956\n",
      "Iteration 106, loss = 0.04433707\n",
      "Iteration 107, loss = 0.04419713\n",
      "Iteration 108, loss = 0.04383405\n",
      "Iteration 109, loss = 0.04360014\n",
      "Iteration 110, loss = 0.04351260\n",
      "Iteration 111, loss = 0.04336899\n",
      "Iteration 112, loss = 0.04332172\n",
      "Iteration 113, loss = 0.04296567\n",
      "Iteration 114, loss = 0.04275388\n",
      "Iteration 115, loss = 0.04276831\n",
      "Iteration 116, loss = 0.04235536\n",
      "Iteration 117, loss = 0.04226143\n",
      "Iteration 118, loss = 0.04198638\n",
      "Iteration 119, loss = 0.04188913\n",
      "Iteration 120, loss = 0.04188807\n",
      "Iteration 121, loss = 0.04181554\n",
      "Iteration 122, loss = 0.04142046\n",
      "Iteration 123, loss = 0.04138323\n",
      "Iteration 124, loss = 0.04123079\n",
      "Iteration 125, loss = 0.04115162\n",
      "Iteration 126, loss = 0.04096494\n",
      "Iteration 127, loss = 0.04112556\n",
      "Iteration 128, loss = 0.04088943\n",
      "Iteration 129, loss = 0.04082586\n",
      "Iteration 130, loss = 0.04074070\n",
      "Iteration 131, loss = 0.04057515\n",
      "Iteration 132, loss = 0.04061652\n",
      "Iteration 133, loss = 0.04055133\n",
      "Iteration 134, loss = 0.04024427\n",
      "Iteration 135, loss = 0.03990821\n",
      "Iteration 136, loss = 0.04014651\n",
      "Iteration 137, loss = 0.03974787\n",
      "Iteration 138, loss = 0.03956441\n",
      "Iteration 139, loss = 0.03966625\n",
      "Iteration 140, loss = 0.03949011\n",
      "Iteration 141, loss = 0.03954068\n",
      "Iteration 142, loss = 0.03929535\n",
      "Iteration 143, loss = 0.03934927\n",
      "Iteration 144, loss = 0.03927485\n",
      "Iteration 145, loss = 0.03936963\n",
      "Iteration 146, loss = 0.03892773\n",
      "Iteration 147, loss = 0.03896886\n",
      "Iteration 148, loss = 0.03888169\n",
      "Iteration 149, loss = 0.03885326\n",
      "Iteration 150, loss = 0.03855101\n",
      "Iteration 151, loss = 0.03843531\n",
      "Iteration 152, loss = 0.03835738\n",
      "Iteration 153, loss = 0.03838970\n",
      "Iteration 154, loss = 0.03818646\n",
      "Iteration 155, loss = 0.03823744\n",
      "Iteration 156, loss = 0.03834120\n",
      "Iteration 157, loss = 0.03810271\n",
      "Iteration 158, loss = 0.03802806\n",
      "Iteration 159, loss = 0.03809754\n",
      "Iteration 160, loss = 0.03786532\n",
      "Iteration 161, loss = 0.03784028\n",
      "Iteration 162, loss = 0.03760690\n",
      "Iteration 163, loss = 0.03757663\n",
      "Iteration 164, loss = 0.03759171\n",
      "Iteration 165, loss = 0.03736538\n",
      "Iteration 166, loss = 0.03731689\n",
      "Iteration 167, loss = 0.03701005\n",
      "Iteration 168, loss = 0.03735024\n",
      "Iteration 169, loss = 0.03687312\n",
      "Iteration 170, loss = 0.03670820\n",
      "Iteration 171, loss = 0.03678640\n",
      "Iteration 172, loss = 0.03623878\n",
      "Iteration 173, loss = 0.03667340\n",
      "Iteration 174, loss = 0.03616285\n",
      "Iteration 175, loss = 0.03645346\n",
      "Iteration 176, loss = 0.03615595\n",
      "Iteration 177, loss = 0.03604444\n",
      "Iteration 178, loss = 0.03593533\n",
      "Iteration 179, loss = 0.03567180\n",
      "Iteration 180, loss = 0.03577724\n",
      "Iteration 181, loss = 0.03591540\n",
      "Iteration 182, loss = 0.03556966\n",
      "Iteration 183, loss = 0.03552463\n",
      "Iteration 184, loss = 0.03560974\n",
      "Iteration 185, loss = 0.03566155\n",
      "Iteration 186, loss = 0.03531125\n",
      "Iteration 187, loss = 0.03535972\n",
      "Iteration 188, loss = 0.03507719\n",
      "Iteration 189, loss = 0.03533462\n",
      "Iteration 190, loss = 0.03526187\n",
      "Iteration 191, loss = 0.03498633\n",
      "Iteration 192, loss = 0.03504049\n",
      "Iteration 193, loss = 0.03485152\n",
      "Iteration 194, loss = 0.03511406\n",
      "Iteration 195, loss = 0.03463147\n",
      "Iteration 196, loss = 0.03484782\n",
      "Iteration 197, loss = 0.03455204\n",
      "Iteration 198, loss = 0.03476294\n",
      "Iteration 199, loss = 0.03440811\n",
      "Iteration 200, loss = 0.03431479\n",
      "Iteration 201, loss = 0.03464922\n",
      "Iteration 202, loss = 0.03442642\n",
      "Iteration 203, loss = 0.03457911\n",
      "Iteration 204, loss = 0.03425670\n",
      "Iteration 205, loss = 0.03430538\n",
      "Iteration 206, loss = 0.03421220\n",
      "Iteration 207, loss = 0.03425062\n",
      "Iteration 208, loss = 0.03422407\n",
      "Iteration 209, loss = 0.03410762\n",
      "Iteration 210, loss = 0.03414641\n",
      "Iteration 211, loss = 0.03387057\n",
      "Iteration 212, loss = 0.03398521\n",
      "Iteration 213, loss = 0.03388905\n",
      "Iteration 214, loss = 0.03401747\n",
      "Iteration 215, loss = 0.03396212\n",
      "Iteration 216, loss = 0.03395551\n",
      "Iteration 217, loss = 0.03395889\n",
      "Iteration 218, loss = 0.03337216\n",
      "Iteration 219, loss = 0.03382296\n",
      "Iteration 220, loss = 0.03376450\n",
      "Iteration 221, loss = 0.03347178\n",
      "Iteration 222, loss = 0.03375967\n",
      "Iteration 223, loss = 0.03371448\n",
      "Iteration 224, loss = 0.03373689\n",
      "Iteration 225, loss = 0.03346625\n",
      "Iteration 226, loss = 0.03364188\n",
      "Iteration 227, loss = 0.03352390\n",
      "Iteration 228, loss = 0.03342247\n",
      "Iteration 229, loss = 0.03343391\n",
      "Training loss did not improve more than tol=0.000100 for 10 consecutive epochs. Stopping.\n"
     ]
    },
    {
     "data": {
      "text/plain": [
       "MLPClassifier(batch_size=10, hidden_layer_sizes=8, max_iter=500,\n",
       "              random_state=2022, verbose=True)"
      ]
     },
     "execution_count": 15,
     "metadata": {},
     "output_type": "execute_result"
    }
   ],
   "source": [
    "clf_mlp.fit(train_x, train_y)"
   ]
  },
  {
   "cell_type": "markdown",
   "metadata": {
    "id": "pNf88I_-s5Nb"
   },
   "source": [
    "### 학습 상태 확인 (learning curve)"
   ]
  },
  {
   "cell_type": "code",
   "execution_count": null,
   "metadata": {
    "colab": {
     "base_uri": "https://localhost:8080/",
     "height": 452
    },
    "id": "gP9KDRdos5Nc",
    "outputId": "b9541192-2c59-414f-b837-4b772bddfbea"
   },
   "outputs": [
    {
     "data": {
      "image/png": "[encoded data removed]",
      "text/plain": [
       "<Figure size 1440x720 with 1 Axes>"
      ]
     },
     "metadata": {
      "needs_background": "light"
     },
     "output_type": "display_data"
    }
   ],
   "source": [
    "# 그래프 배경화면 만들기\n",
    "plt.figure(figsize=(20,10))\n",
    "\n",
    "train_loss_values = clf_mlp.loss_curve_\n",
    "plt.plot(train_loss_values,label='Train Loss')\n",
    "\n",
    "plt.legend(fontsize=20)\n",
    "plt.title(\"Learning Curve of trained MLP Classifier\", fontsize=18)\n",
    "plt.show()"
   ]
  },
  {
   "cell_type": "markdown",
   "metadata": {
    "id": "0todBbsAs5Nd"
   },
   "source": [
    "## 1-3. Multilayer Perceptron 모델 성능 평가"
   ]
  },
  {
   "cell_type": "markdown",
   "metadata": {
    "id": "L7nnM52fs5Ne"
   },
   "source": [
    "### 학습된 MLP Classifier 결과 확인: Training Data"
   ]
  },
  {
   "cell_type": "code",
   "execution_count": null,
   "metadata": {
    "id": "O5Jv40Qgs5Nf"
   },
   "outputs": [],
   "source": [
    "train_y_pred = clf_mlp.predict(train_x)"
   ]
  },
  {
   "cell_type": "code",
   "execution_count": null,
   "metadata": {
    "id": "qJOK72u0s5Nf",
    "scrolled": true
   },
   "outputs": [],
   "source": [
    "cm_train = confusion_matrix(y_true=train_y, y_pred=train_y_pred)"
   ]
  },
  {
   "cell_type": "code",
   "execution_count": null,
   "metadata": {
    "colab": {
     "base_uri": "https://localhost:8080/",
     "height": 279
    },
    "id": "w61N4NW8s5Ng",
    "outputId": "e6b1072d-b8ee-473c-beb8-48b26d36791b",
    "scrolled": true
   },
   "outputs": [
    {
     "data": {
      "image/png": "[encoded data removed]",
      "text/plain": [
       "<Figure size 360x288 with 2 Axes>"
      ]
     },
     "metadata": {
      "needs_background": "light"
     },
     "output_type": "display_data"
    }
   ],
   "source": [
    "plt.figure(figsize=(5, 4))\n",
    "sns.heatmap(data=cm_train, annot=True, fmt='d', annot_kws={'size': 18}, cmap='Blues')\n",
    "plt.xlabel('Predicted')\n",
    "plt.ylabel('True')\n",
    "plt.show()"
   ]
  },
  {
   "cell_type": "markdown",
   "metadata": {
    "id": "8BMCbPCvs5Nh"
   },
   "source": [
    "### 학습된 MLP Classifier 성능 평가: 다양한 평가 지표\n",
    "\n",
    "\n",
    "- 다양한 분류 평가 지표를 계산하기 위한 함수 정의"
   ]
  },
  {
   "cell_type": "code",
   "execution_count": null,
   "metadata": {
    "id": "1pTHdriOs5Ni"
   },
   "outputs": [],
   "source": [
    "def validation_measure(cm):\n",
    "    TN, FP, FN, TP = cm.flatten()\n",
    "    accuracy = (TP+TN)/(TP+TN+FP+FN)\n",
    "    sensitivity = TP/(TP+FN)\n",
    "    specificity = TN/(TN+FP)\n",
    "    precision = TP/(TP+FP)\n",
    "    F1_score = 2/(1/sensitivity + 1/precision)\n",
    "    return accuracy, sensitivity, specificity, precision, F1_score"
   ]
  },
  {
   "cell_type": "code",
   "execution_count": null,
   "metadata": {
    "colab": {
     "base_uri": "https://localhost:8080/"
    },
    "id": "7CfelIoHs5Ni",
    "outputId": "2fd28d4a-d4fa-464b-cdfc-73fe51edade5"
   },
   "outputs": [
    {
     "name": "stdout",
     "output_type": "stream",
     "text": [
      "Train Accuracy   : 0.990\n",
      "Train Sensitivity: 0.932\n",
      "Train Specificity: 0.996\n",
      "Train Precision  : 0.963\n",
      "Train F1 Score   : 0.947\n"
     ]
    }
   ],
   "source": [
    "train_acc, train_sens, train_spec, train_prec, train_f1 = validation_measure(cm_train)\n",
    "print('Train Accuracy   : {:.3f}'.format(train_acc))\n",
    "print('Train Sensitivity: {:.3f}'.format(train_sens))\n",
    "print('Train Specificity: {:.3f}'.format(train_spec))\n",
    "print('Train Precision  : {:.3f}'.format(train_prec))\n",
    "print('Train F1 Score   : {:.3f}'.format(train_f1))"
   ]
  },
  {
   "cell_type": "markdown",
   "metadata": {
    "id": "ppe2GBBHs5Nj"
   },
   "source": [
    "### 학습된 MLP Classifier 성능 평가: Testing Data"
   ]
  },
  {
   "cell_type": "code",
   "execution_count": null,
   "metadata": {
    "colab": {
     "base_uri": "https://localhost:8080/",
     "height": 279
    },
    "id": "Y0i9kIr5s5Nk",
    "outputId": "b810f5e8-0f9f-4f9c-c4d2-3e08e6ca1bcd"
   },
   "outputs": [
    {
     "data": {
      "image/png": "[encoded data removed]",
      "text/plain": [
       "<Figure size 360x288 with 2 Axes>"
      ]
     },
     "metadata": {
      "needs_background": "light"
     },
     "output_type": "display_data"
    }
   ],
   "source": [
    "test_y_pred = clf_mlp.predict(test_x)\n",
    "\n",
    "cm_test = confusion_matrix(y_true=test_y, y_pred=test_y_pred)\n",
    "\n",
    "plt.figure(figsize=(5, 4))\n",
    "sns.heatmap(data=cm_test, annot=True, fmt='d', annot_kws={'size': 18}, cmap='Blues')\n",
    "plt.xlabel('Predicted')\n",
    "plt.ylabel('True')\n",
    "plt.show()"
   ]
  },
  {
   "cell_type": "markdown",
   "metadata": {
    "id": "xtXhEvgds5Nk"
   },
   "source": [
    "### 학습된 MLP Classifier 성능 평가: 다양한 평가 지표"
   ]
  },
  {
   "cell_type": "code",
   "execution_count": null,
   "metadata": {
    "colab": {
     "base_uri": "https://localhost:8080/"
    },
    "id": "k5FHPqKds5Nl",
    "outputId": "76321d93-b421-4286-c439-6edf4bbab19e",
    "scrolled": true
   },
   "outputs": [
    {
     "name": "stdout",
     "output_type": "stream",
     "text": [
      "Test Accuracy   : 0.983\n",
      "Test Sensitivity: 0.910\n",
      "Test Specificity: 0.990\n",
      "Test Precision  : 0.910\n",
      "Test F1 Score   : 0.910\n"
     ]
    }
   ],
   "source": [
    "test_acc, test_sens, test_spec, test_prec, test_f1 = validation_measure(cm_test)\n",
    "print('Test Accuracy   : {:.3f}'.format(test_acc))\n",
    "print('Test Sensitivity: {:.3f}'.format(test_sens))\n",
    "print('Test Specificity: {:.3f}'.format(test_spec))\n",
    "print('Test Precision  : {:.3f}'.format(test_prec))\n",
    "print('Test F1 Score   : {:.3f}'.format(test_f1))"
   ]
  },
  {
   "cell_type": "markdown",
   "metadata": {
    "id": "Y6Rh0Bbos5Nm"
   },
   "source": [
    "## 2. 분석 데이터 : California Housing Data (수치 예측)"
   ]
  },
  {
   "cell_type": "markdown",
   "metadata": {
    "id": "956jWH9vs5Nm"
   },
   "source": [
    "### 데이터 구조  \n",
    "- 데이터: 1990년 캘리포니아의 각 행정 구역 내 주택 가격  \n",
    "- 관측치 개수: 20640개\n",
    "- 변수 개수: 설명변수 8개 / 반응변수 1개\n",
    "\n",
    "### 설명 변수(X)      \n",
    "- MedInc : 행정 구역 내 소득의 중앙값\n",
    "- HouseAge : 행정 구역 내 주택 연식의 중앙값\n",
    "- AveRooms : 평균 방 갯수\n",
    "- AveBedrms : 평균 침실 갯수\n",
    "- Population : 행정 구역 내 인구 수\n",
    "- AveOccup : 평균 자가 비율\n",
    "- Latitude : 해당 행정 구역의 위도\n",
    "- Longitude : 해당 행정 구역의 경도\n",
    "\n",
    "### 반응 변수(Y)\n",
    "- House Value: 주택가격"
   ]
  },
  {
   "cell_type": "code",
   "execution_count": null,
   "metadata": {
    "id": "oaTZrkeps5Nn",
    "scrolled": true
   },
   "outputs": [],
   "source": [
    "data1 = pd.read_csv('/content/LG2025_ANN/data/California.csv')\n",
    "# data1 = pd.read_csv('./data/California.csv') # 로컬"
   ]
  },
  {
   "cell_type": "markdown",
   "metadata": {
    "id": "tiOKvACJs5No"
   },
   "source": [
    "## 2-1. 데이터 전처리 및 탐색적 데이터 분석"
   ]
  },
  {
   "cell_type": "markdown",
   "metadata": {
    "id": "5WhKZX3Ms5No"
   },
   "source": [
    "### 데이터 확인"
   ]
  },
  {
   "cell_type": "code",
   "execution_count": null,
   "metadata": {
    "colab": {
     "base_uri": "https://localhost:8080/",
     "height": 225
    },
    "id": "Oc4U7bpQs5Np",
    "outputId": "2f9c8ac8-47be-4741-ec21-abefcc7a1e3f"
   },
   "outputs": [
    {
     "name": "stdout",
     "output_type": "stream",
     "text": [
      "Data shape: (20640, 9)\n"
     ]
    },
    {
     "data": {
      "text/html": [
       "\n",
       "  <div id=\"df-a4b02245-b29d-4f60-8a7e-928aa8c20515\">\n",
       "    <div class=\"colab-df-container\">\n",
       "      <div>\n",
       "<style scoped>\n",
       "    .dataframe tbody tr th:only-of-type {\n",
       "        vertical-align: middle;\n",
       "    }\n",
       "\n",
       "    .dataframe tbody tr th {\n",
       "        vertical-align: top;\n",
       "    }\n",
       "\n",
       "    .dataframe thead th {\n",
       "        text-align: right;\n",
       "    }\n",
       "</style>\n",
       "<table border=\"1\" class=\"dataframe\">\n",
       "  <thead>\n",
       "    <tr style=\"text-align: right;\">\n",
       "      <th></th>\n",
       "      <th>MedInc</th>\n",
       "      <th>HouseAge</th>\n",
       "      <th>AveRooms</th>\n",
       "      <th>AveBedrms</th>\n",
       "      <th>Population</th>\n",
       "      <th>AveOccup</th>\n",
       "      <th>Latitude</th>\n",
       "      <th>Longitude</th>\n",
       "      <th>House Value</th>\n",
       "    </tr>\n",
       "  </thead>\n",
       "  <tbody>\n",
       "    <tr>\n",
       "      <th>0</th>\n",
       "      <td>8.3252</td>\n",
       "      <td>41.0</td>\n",
       "      <td>6.984127</td>\n",
       "      <td>1.023810</td>\n",
       "      <td>322.0</td>\n",
       "      <td>2.555556</td>\n",
       "      <td>37.88</td>\n",
       "      <td>-122.23</td>\n",
       "      <td>4.526</td>\n",
       "    </tr>\n",
       "    <tr>\n",
       "      <th>1</th>\n",
       "      <td>8.3014</td>\n",
       "      <td>21.0</td>\n",
       "      <td>6.238137</td>\n",
       "      <td>0.971880</td>\n",
       "      <td>2401.0</td>\n",
       "      <td>2.109842</td>\n",
       "      <td>37.86</td>\n",
       "      <td>-122.22</td>\n",
       "      <td>3.585</td>\n",
       "    </tr>\n",
       "    <tr>\n",
       "      <th>2</th>\n",
       "      <td>7.2574</td>\n",
       "      <td>52.0</td>\n",
       "      <td>8.288136</td>\n",
       "      <td>1.073446</td>\n",
       "      <td>496.0</td>\n",
       "      <td>2.802260</td>\n",
       "      <td>37.85</td>\n",
       "      <td>-122.24</td>\n",
       "      <td>3.521</td>\n",
       "    </tr>\n",
       "    <tr>\n",
       "      <th>3</th>\n",
       "      <td>5.6431</td>\n",
       "      <td>52.0</td>\n",
       "      <td>5.817352</td>\n",
       "      <td>1.073059</td>\n",
       "      <td>558.0</td>\n",
       "      <td>2.547945</td>\n",
       "      <td>37.85</td>\n",
       "      <td>-122.25</td>\n",
       "      <td>3.413</td>\n",
       "    </tr>\n",
       "    <tr>\n",
       "      <th>4</th>\n",
       "      <td>3.8462</td>\n",
       "      <td>52.0</td>\n",
       "      <td>6.281853</td>\n",
       "      <td>1.081081</td>\n",
       "      <td>565.0</td>\n",
       "      <td>2.181467</td>\n",
       "      <td>37.85</td>\n",
       "      <td>-122.25</td>\n",
       "      <td>3.422</td>\n",
       "    </tr>\n",
       "  </tbody>\n",
       "</table>\n",
       "</div>\n",
       "      <button class=\"colab-df-convert\" onclick=\"convertToInteractive('df-a4b02245-b29d-4f60-8a7e-928aa8c20515')\"\n",
       "              title=\"Convert this dataframe to an interactive table.\"\n",
       "              style=\"display:none;\">\n",
       "        \n",
       "  <svg xmlns=\"http://www.w3.org/2000/svg\" height=\"24px\"viewBox=\"0 0 24 24\"\n",
       "       width=\"24px\">\n",
       "    <path d=\"M0 0h24v24H0V0z\" fill=\"none\"/>\n",
       "    <path d=\"M18.56 5.44l.94 2.06.94-2.06 2.06-.94-2.06-.94-.94-2.06-.94 2.06-2.06.94zm-11 1L8.5 8.5l.94-2.06 2.06-.94-2.06-.94L8.5 2.5l-.94 2.06-2.06.94zm10 10l.94 2.06.94-2.06 2.06-.94-2.06-.94-.94-2.06-.94 2.06-2.06.94z\"/><path d=\"M17.41 7.96l-1.37-1.37c-.4-.4-.92-.59-1.43-.59-.52 0-1.04.2-1.43.59L10.3 9.45l-7.72 7.72c-.78.78-.78 2.05 0 2.83L4 21.41c.39.39.9.59 1.41.59.51 0 1.02-.2 1.41-.59l7.78-7.78 2.81-2.81c.8-.78.8-2.07 0-2.86zM5.41 20L4 18.59l7.72-7.72 1.47 1.35L5.41 20z\"/>\n",
       "  </svg>\n",
       "      </button>\n",
       "      \n",
       "  <style>\n",
       "    .colab-df-container {\n",
       "      display:flex;\n",
       "      flex-wrap:wrap;\n",
       "      gap: 12px;\n",
       "    }\n",
       "\n",
       "    .colab-df-convert {\n",
       "      background-color: #E8F0FE;\n",
       "      border: none;\n",
       "      border-radius: 50%;\n",
       "      cursor: pointer;\n",
       "      display: none;\n",
       "      fill: #1967D2;\n",
       "      height: 32px;\n",
       "      padding: 0 0 0 0;\n",
       "      width: 32px;\n",
       "    }\n",
       "\n",
       "    .colab-df-convert:hover {\n",
       "      background-color: #E2EBFA;\n",
       "      box-shadow: 0px 1px 2px rgba(60, 64, 67, 0.3), 0px 1px 3px 1px rgba(60, 64, 67, 0.15);\n",
       "      fill: #174EA6;\n",
       "    }\n",
       "\n",
       "    [theme=dark] .colab-df-convert {\n",
       "      background-color: #3B4455;\n",
       "      fill: #D2E3FC;\n",
       "    }\n",
       "\n",
       "    [theme=dark] .colab-df-convert:hover {\n",
       "      background-color: #434B5C;\n",
       "      box-shadow: 0px 1px 3px 1px rgba(0, 0, 0, 0.15);\n",
       "      filter: drop-shadow(0px 1px 2px rgba(0, 0, 0, 0.3));\n",
       "      fill: #FFFFFF;\n",
       "    }\n",
       "  </style>\n",
       "\n",
       "      <script>\n",
       "        const buttonEl =\n",
       "          document.querySelector('#df-a4b02245-b29d-4f60-8a7e-928aa8c20515 button.colab-df-convert');\n",
       "        buttonEl.style.display =\n",
       "          google.colab.kernel.accessAllowed ? 'block' : 'none';\n",
       "\n",
       "        async function convertToInteractive(key) {\n",
       "          const element = document.querySelector('#df-a4b02245-b29d-4f60-8a7e-928aa8c20515');\n",
       "          const dataTable =\n",
       "            await google.colab.kernel.invokeFunction('convertToInteractive',\n",
       "                                                     [key], {});\n",
       "          if (!dataTable) return;\n",
       "\n",
       "          const docLinkHtml = 'Like what you see? Visit the ' +\n",
       "            '<a target=\"_blank\" href=https://colab.research.google.com/notebooks/data_table.ipynb>data table notebook</a>'\n",
       "            + ' to learn more about interactive tables.';\n",
       "          element.innerHTML = '';\n",
       "          dataTable['output_type'] = 'display_data';\n",
       "          await google.colab.output.renderOutput(dataTable, element);\n",
       "          const docLink = document.createElement('div');\n",
       "          docLink.innerHTML = docLinkHtml;\n",
       "          element.appendChild(docLink);\n",
       "        }\n",
       "      </script>\n",
       "    </div>\n",
       "  </div>\n",
       "  "
      ],
      "text/plain": [
       "   MedInc  HouseAge  AveRooms  ...  Latitude  Longitude  House Value\n",
       "0  8.3252      41.0  6.984127  ...     37.88    -122.23        4.526\n",
       "1  8.3014      21.0  6.238137  ...     37.86    -122.22        3.585\n",
       "2  7.2574      52.0  8.288136  ...     37.85    -122.24        3.521\n",
       "3  5.6431      52.0  5.817352  ...     37.85    -122.25        3.413\n",
       "4  3.8462      52.0  6.281853  ...     37.85    -122.25        3.422\n",
       "\n",
       "[5 rows x 9 columns]"
      ]
     },
     "execution_count": 25,
     "metadata": {},
     "output_type": "execute_result"
    }
   ],
   "source": [
    "print('Data shape: {}'.format(data1.shape))\n",
    "data1.head()"
   ]
  },
  {
   "cell_type": "markdown",
   "metadata": {
    "id": "yR7oj7ivs5Nq"
   },
   "source": [
    "### 설명변수(X)와 반응변수(Y) 정의 : House Value 변수"
   ]
  },
  {
   "cell_type": "code",
   "execution_count": null,
   "metadata": {
    "colab": {
     "base_uri": "https://localhost:8080/",
     "height": 316
    },
    "id": "kK8FSM-7s5Nr",
    "outputId": "a26031b6-d4ac-465e-b227-dd87f6dea794"
   },
   "outputs": [
    {
     "data": {
      "text/html": [
       "\n",
       "  <div id=\"df-0ef32b3b-88ae-4699-99b2-9987753614d9\">\n",
       "    <div class=\"colab-df-container\">\n",
       "      <div>\n",
       "<style scoped>\n",
       "    .dataframe tbody tr th:only-of-type {\n",
       "        vertical-align: middle;\n",
       "    }\n",
       "\n",
       "    .dataframe tbody tr th {\n",
       "        vertical-align: top;\n",
       "    }\n",
       "\n",
       "    .dataframe thead th {\n",
       "        text-align: right;\n",
       "    }\n",
       "</style>\n",
       "<table border=\"1\" class=\"dataframe\">\n",
       "  <thead>\n",
       "    <tr style=\"text-align: right;\">\n",
       "      <th></th>\n",
       "      <th>MedInc</th>\n",
       "      <th>HouseAge</th>\n",
       "      <th>AveRooms</th>\n",
       "      <th>AveBedrms</th>\n",
       "      <th>Population</th>\n",
       "      <th>AveOccup</th>\n",
       "      <th>Latitude</th>\n",
       "      <th>Longitude</th>\n",
       "    </tr>\n",
       "  </thead>\n",
       "  <tbody>\n",
       "    <tr>\n",
       "      <th>0</th>\n",
       "      <td>8.3252</td>\n",
       "      <td>41.0</td>\n",
       "      <td>6.984127</td>\n",
       "      <td>1.023810</td>\n",
       "      <td>322.0</td>\n",
       "      <td>2.555556</td>\n",
       "      <td>37.88</td>\n",
       "      <td>-122.23</td>\n",
       "    </tr>\n",
       "    <tr>\n",
       "      <th>1</th>\n",
       "      <td>8.3014</td>\n",
       "      <td>21.0</td>\n",
       "      <td>6.238137</td>\n",
       "      <td>0.971880</td>\n",
       "      <td>2401.0</td>\n",
       "      <td>2.109842</td>\n",
       "      <td>37.86</td>\n",
       "      <td>-122.22</td>\n",
       "    </tr>\n",
       "    <tr>\n",
       "      <th>2</th>\n",
       "      <td>7.2574</td>\n",
       "      <td>52.0</td>\n",
       "      <td>8.288136</td>\n",
       "      <td>1.073446</td>\n",
       "      <td>496.0</td>\n",
       "      <td>2.802260</td>\n",
       "      <td>37.85</td>\n",
       "      <td>-122.24</td>\n",
       "    </tr>\n",
       "    <tr>\n",
       "      <th>3</th>\n",
       "      <td>5.6431</td>\n",
       "      <td>52.0</td>\n",
       "      <td>5.817352</td>\n",
       "      <td>1.073059</td>\n",
       "      <td>558.0</td>\n",
       "      <td>2.547945</td>\n",
       "      <td>37.85</td>\n",
       "      <td>-122.25</td>\n",
       "    </tr>\n",
       "    <tr>\n",
       "      <th>4</th>\n",
       "      <td>3.8462</td>\n",
       "      <td>52.0</td>\n",
       "      <td>6.281853</td>\n",
       "      <td>1.081081</td>\n",
       "      <td>565.0</td>\n",
       "      <td>2.181467</td>\n",
       "      <td>37.85</td>\n",
       "      <td>-122.25</td>\n",
       "    </tr>\n",
       "  </tbody>\n",
       "</table>\n",
       "</div>\n",
       "      <button class=\"colab-df-convert\" onclick=\"convertToInteractive('df-0ef32b3b-88ae-4699-99b2-9987753614d9')\"\n",
       "              title=\"Convert this dataframe to an interactive table.\"\n",
       "              style=\"display:none;\">\n",
       "        \n",
       "  <svg xmlns=\"http://www.w3.org/2000/svg\" height=\"24px\"viewBox=\"0 0 24 24\"\n",
       "       width=\"24px\">\n",
       "    <path d=\"M0 0h24v24H0V0z\" fill=\"none\"/>\n",
       "    <path d=\"M18.56 5.44l.94 2.06.94-2.06 2.06-.94-2.06-.94-.94-2.06-.94 2.06-2.06.94zm-11 1L8.5 8.5l.94-2.06 2.06-.94-2.06-.94L8.5 2.5l-.94 2.06-2.06.94zm10 10l.94 2.06.94-2.06 2.06-.94-2.06-.94-.94-2.06-.94 2.06-2.06.94z\"/><path d=\"M17.41 7.96l-1.37-1.37c-.4-.4-.92-.59-1.43-.59-.52 0-1.04.2-1.43.59L10.3 9.45l-7.72 7.72c-.78.78-.78 2.05 0 2.83L4 21.41c.39.39.9.59 1.41.59.51 0 1.02-.2 1.41-.59l7.78-7.78 2.81-2.81c.8-.78.8-2.07 0-2.86zM5.41 20L4 18.59l7.72-7.72 1.47 1.35L5.41 20z\"/>\n",
       "  </svg>\n",
       "      </button>\n",
       "      \n",
       "  <style>\n",
       "    .colab-df-container {\n",
       "      display:flex;\n",
       "      flex-wrap:wrap;\n",
       "      gap: 12px;\n",
       "    }\n",
       "\n",
       "    .colab-df-convert {\n",
       "      background-color: #E8F0FE;\n",
       "      border: none;\n",
       "      border-radius: 50%;\n",
       "      cursor: pointer;\n",
       "      display: none;\n",
       "      fill: #1967D2;\n",
       "      height: 32px;\n",
       "      padding: 0 0 0 0;\n",
       "      width: 32px;\n",
       "    }\n",
       "\n",
       "    .colab-df-convert:hover {\n",
       "      background-color: #E2EBFA;\n",
       "      box-shadow: 0px 1px 2px rgba(60, 64, 67, 0.3), 0px 1px 3px 1px rgba(60, 64, 67, 0.15);\n",
       "      fill: #174EA6;\n",
       "    }\n",
       "\n",
       "    [theme=dark] .colab-df-convert {\n",
       "      background-color: #3B4455;\n",
       "      fill: #D2E3FC;\n",
       "    }\n",
       "\n",
       "    [theme=dark] .colab-df-convert:hover {\n",
       "      background-color: #434B5C;\n",
       "      box-shadow: 0px 1px 3px 1px rgba(0, 0, 0, 0.15);\n",
       "      filter: drop-shadow(0px 1px 2px rgba(0, 0, 0, 0.3));\n",
       "      fill: #FFFFFF;\n",
       "    }\n",
       "  </style>\n",
       "\n",
       "      <script>\n",
       "        const buttonEl =\n",
       "          document.querySelector('#df-0ef32b3b-88ae-4699-99b2-9987753614d9 button.colab-df-convert');\n",
       "        buttonEl.style.display =\n",
       "          google.colab.kernel.accessAllowed ? 'block' : 'none';\n",
       "\n",
       "        async function convertToInteractive(key) {\n",
       "          const element = document.querySelector('#df-0ef32b3b-88ae-4699-99b2-9987753614d9');\n",
       "          const dataTable =\n",
       "            await google.colab.kernel.invokeFunction('convertToInteractive',\n",
       "                                                     [key], {});\n",
       "          if (!dataTable) return;\n",
       "\n",
       "          const docLinkHtml = 'Like what you see? Visit the ' +\n",
       "            '<a target=\"_blank\" href=https://colab.research.google.com/notebooks/data_table.ipynb>data table notebook</a>'\n",
       "            + ' to learn more about interactive tables.';\n",
       "          element.innerHTML = '';\n",
       "          dataTable['output_type'] = 'display_data';\n",
       "          await google.colab.output.renderOutput(dataTable, element);\n",
       "          const docLink = document.createElement('div');\n",
       "          docLink.innerHTML = docLinkHtml;\n",
       "          element.appendChild(docLink);\n",
       "        }\n",
       "      </script>\n",
       "    </div>\n",
       "  </div>\n",
       "  "
      ],
      "text/plain": [
       "   MedInc  HouseAge  AveRooms  ...  AveOccup  Latitude  Longitude\n",
       "0  8.3252      41.0  6.984127  ...  2.555556     37.88    -122.23\n",
       "1  8.3014      21.0  6.238137  ...  2.109842     37.86    -122.22\n",
       "2  7.2574      52.0  8.288136  ...  2.802260     37.85    -122.24\n",
       "3  5.6431      52.0  5.817352  ...  2.547945     37.85    -122.25\n",
       "4  3.8462      52.0  6.281853  ...  2.181467     37.85    -122.25\n",
       "\n",
       "[5 rows x 8 columns]"
      ]
     },
     "metadata": {},
     "output_type": "display_data"
    },
    {
     "data": {
      "text/plain": [
       "0    4.526\n",
       "1    3.585\n",
       "2    3.521\n",
       "3    3.413\n",
       "4    3.422\n",
       "Name: House Value, dtype: float64"
      ]
     },
     "metadata": {},
     "output_type": "display_data"
    }
   ],
   "source": [
    "x = data1.drop(labels='House Value', axis=1)\n",
    "y = data1['House Value']\n",
    "display(x.head())\n",
    "display(y.head())"
   ]
  },
  {
   "cell_type": "markdown",
   "metadata": {
    "id": "7Bv1mHLWs5Nr"
   },
   "source": [
    "### 학습데이터(Training Dataset)와 테스트 데이터(Testing Dataset) 분리"
   ]
  },
  {
   "cell_type": "code",
   "execution_count": null,
   "metadata": {
    "id": "2EAU7ygGs5Ns"
   },
   "outputs": [],
   "source": [
    "train_x, test_x, train_y, test_y = train_test_split(x, y, test_size=0.3)"
   ]
  },
  {
   "cell_type": "markdown",
   "metadata": {
    "id": "0rq97dA2s5Nt"
   },
   "source": [
    "### 정규화 : Standardization(표준정규화) with Standard Scaler"
   ]
  },
  {
   "cell_type": "code",
   "execution_count": null,
   "metadata": {
    "colab": {
     "base_uri": "https://localhost:8080/",
     "height": 364
    },
    "id": "bwy30m5zs5Nt",
    "outputId": "f7ca2c34-4f75-4e89-99c0-1f16e503656e"
   },
   "outputs": [
    {
     "data": {
      "text/html": [
       "\n",
       "  <div id=\"df-e7b0e69c-0a47-4680-8d9e-9fdcfec05521\">\n",
       "    <div class=\"colab-df-container\">\n",
       "      <div>\n",
       "<style scoped>\n",
       "    .dataframe tbody tr th:only-of-type {\n",
       "        vertical-align: middle;\n",
       "    }\n",
       "\n",
       "    .dataframe tbody tr th {\n",
       "        vertical-align: top;\n",
       "    }\n",
       "\n",
       "    .dataframe thead th {\n",
       "        text-align: right;\n",
       "    }\n",
       "</style>\n",
       "<table border=\"1\" class=\"dataframe\">\n",
       "  <thead>\n",
       "    <tr style=\"text-align: right;\">\n",
       "      <th></th>\n",
       "      <th>MedInc</th>\n",
       "      <th>HouseAge</th>\n",
       "      <th>AveRooms</th>\n",
       "      <th>AveBedrms</th>\n",
       "      <th>Population</th>\n",
       "      <th>AveOccup</th>\n",
       "      <th>Latitude</th>\n",
       "      <th>Longitude</th>\n",
       "    </tr>\n",
       "  </thead>\n",
       "  <tbody>\n",
       "    <tr>\n",
       "      <th>count</th>\n",
       "      <td>20640.000000</td>\n",
       "      <td>20640.000000</td>\n",
       "      <td>20640.000000</td>\n",
       "      <td>20640.000000</td>\n",
       "      <td>20640.000000</td>\n",
       "      <td>20640.000000</td>\n",
       "      <td>20640.000000</td>\n",
       "      <td>20640.000000</td>\n",
       "    </tr>\n",
       "    <tr>\n",
       "      <th>mean</th>\n",
       "      <td>3.870671</td>\n",
       "      <td>28.639486</td>\n",
       "      <td>5.429000</td>\n",
       "      <td>1.096675</td>\n",
       "      <td>1425.476744</td>\n",
       "      <td>3.070655</td>\n",
       "      <td>35.631861</td>\n",
       "      <td>-119.569704</td>\n",
       "    </tr>\n",
       "    <tr>\n",
       "      <th>std</th>\n",
       "      <td>1.899822</td>\n",
       "      <td>12.585558</td>\n",
       "      <td>2.474173</td>\n",
       "      <td>0.473911</td>\n",
       "      <td>1132.462122</td>\n",
       "      <td>10.386050</td>\n",
       "      <td>2.135952</td>\n",
       "      <td>2.003532</td>\n",
       "    </tr>\n",
       "    <tr>\n",
       "      <th>min</th>\n",
       "      <td>0.499900</td>\n",
       "      <td>1.000000</td>\n",
       "      <td>0.846154</td>\n",
       "      <td>0.333333</td>\n",
       "      <td>3.000000</td>\n",
       "      <td>0.692308</td>\n",
       "      <td>32.540000</td>\n",
       "      <td>-124.350000</td>\n",
       "    </tr>\n",
       "    <tr>\n",
       "      <th>25%</th>\n",
       "      <td>2.563400</td>\n",
       "      <td>18.000000</td>\n",
       "      <td>4.440716</td>\n",
       "      <td>1.006079</td>\n",
       "      <td>787.000000</td>\n",
       "      <td>2.429741</td>\n",
       "      <td>33.930000</td>\n",
       "      <td>-121.800000</td>\n",
       "    </tr>\n",
       "    <tr>\n",
       "      <th>50%</th>\n",
       "      <td>3.534800</td>\n",
       "      <td>29.000000</td>\n",
       "      <td>5.229129</td>\n",
       "      <td>1.048780</td>\n",
       "      <td>1166.000000</td>\n",
       "      <td>2.818116</td>\n",
       "      <td>34.260000</td>\n",
       "      <td>-118.490000</td>\n",
       "    </tr>\n",
       "    <tr>\n",
       "      <th>75%</th>\n",
       "      <td>4.743250</td>\n",
       "      <td>37.000000</td>\n",
       "      <td>6.052381</td>\n",
       "      <td>1.099526</td>\n",
       "      <td>1725.000000</td>\n",
       "      <td>3.282261</td>\n",
       "      <td>37.710000</td>\n",
       "      <td>-118.010000</td>\n",
       "    </tr>\n",
       "    <tr>\n",
       "      <th>max</th>\n",
       "      <td>15.000100</td>\n",
       "      <td>52.000000</td>\n",
       "      <td>141.909091</td>\n",
       "      <td>34.066667</td>\n",
       "      <td>35682.000000</td>\n",
       "      <td>1243.333333</td>\n",
       "      <td>41.950000</td>\n",
       "      <td>-114.310000</td>\n",
       "    </tr>\n",
       "  </tbody>\n",
       "</table>\n",
       "</div>\n",
       "      <button class=\"colab-df-convert\" onclick=\"convertToInteractive('df-e7b0e69c-0a47-4680-8d9e-9fdcfec05521')\"\n",
       "              title=\"Convert this dataframe to an interactive table.\"\n",
       "              style=\"display:none;\">\n",
       "        \n",
       "  <svg xmlns=\"http://www.w3.org/2000/svg\" height=\"24px\"viewBox=\"0 0 24 24\"\n",
       "       width=\"24px\">\n",
       "    <path d=\"M0 0h24v24H0V0z\" fill=\"none\"/>\n",
       "    <path d=\"M18.56 5.44l.94 2.06.94-2.06 2.06-.94-2.06-.94-.94-2.06-.94 2.06-2.06.94zm-11 1L8.5 8.5l.94-2.06 2.06-.94-2.06-.94L8.5 2.5l-.94 2.06-2.06.94zm10 10l.94 2.06.94-2.06 2.06-.94-2.06-.94-.94-2.06-.94 2.06-2.06.94z\"/><path d=\"M17.41 7.96l-1.37-1.37c-.4-.4-.92-.59-1.43-.59-.52 0-1.04.2-1.43.59L10.3 9.45l-7.72 7.72c-.78.78-.78 2.05 0 2.83L4 21.41c.39.39.9.59 1.41.59.51 0 1.02-.2 1.41-.59l7.78-7.78 2.81-2.81c.8-.78.8-2.07 0-2.86zM5.41 20L4 18.59l7.72-7.72 1.47 1.35L5.41 20z\"/>\n",
       "  </svg>\n",
       "      </button>\n",
       "      \n",
       "  <style>\n",
       "    .colab-df-container {\n",
       "      display:flex;\n",
       "      flex-wrap:wrap;\n",
       "      gap: 12px;\n",
       "    }\n",
       "\n",
       "    .colab-df-convert {\n",
       "      background-color: #E8F0FE;\n",
       "      border: none;\n",
       "      border-radius: 50%;\n",
       "      cursor: pointer;\n",
       "      display: none;\n",
       "      fill: #1967D2;\n",
       "      height: 32px;\n",
       "      padding: 0 0 0 0;\n",
       "      width: 32px;\n",
       "    }\n",
       "\n",
       "    .colab-df-convert:hover {\n",
       "      background-color: #E2EBFA;\n",
       "      box-shadow: 0px 1px 2px rgba(60, 64, 67, 0.3), 0px 1px 3px 1px rgba(60, 64, 67, 0.15);\n",
       "      fill: #174EA6;\n",
       "    }\n",
       "\n",
       "    [theme=dark] .colab-df-convert {\n",
       "      background-color: #3B4455;\n",
       "      fill: #D2E3FC;\n",
       "    }\n",
       "\n",
       "    [theme=dark] .colab-df-convert:hover {\n",
       "      background-color: #434B5C;\n",
       "      box-shadow: 0px 1px 3px 1px rgba(0, 0, 0, 0.15);\n",
       "      filter: drop-shadow(0px 1px 2px rgba(0, 0, 0, 0.3));\n",
       "      fill: #FFFFFF;\n",
       "    }\n",
       "  </style>\n",
       "\n",
       "      <script>\n",
       "        const buttonEl =\n",
       "          document.querySelector('#df-e7b0e69c-0a47-4680-8d9e-9fdcfec05521 button.colab-df-convert');\n",
       "        buttonEl.style.display =\n",
       "          google.colab.kernel.accessAllowed ? 'block' : 'none';\n",
       "\n",
       "        async function convertToInteractive(key) {\n",
       "          const element = document.querySelector('#df-e7b0e69c-0a47-4680-8d9e-9fdcfec05521');\n",
       "          const dataTable =\n",
       "            await google.colab.kernel.invokeFunction('convertToInteractive',\n",
       "                                                     [key], {});\n",
       "          if (!dataTable) return;\n",
       "\n",
       "          const docLinkHtml = 'Like what you see? Visit the ' +\n",
       "            '<a target=\"_blank\" href=https://colab.research.google.com/notebooks/data_table.ipynb>data table notebook</a>'\n",
       "            + ' to learn more about interactive tables.';\n",
       "          element.innerHTML = '';\n",
       "          dataTable['output_type'] = 'display_data';\n",
       "          await google.colab.output.renderOutput(dataTable, element);\n",
       "          const docLink = document.createElement('div');\n",
       "          docLink.innerHTML = docLinkHtml;\n",
       "          element.appendChild(docLink);\n",
       "        }\n",
       "      </script>\n",
       "    </div>\n",
       "  </div>\n",
       "  "
      ],
      "text/plain": [
       "             MedInc      HouseAge  ...      Latitude     Longitude\n",
       "count  20640.000000  20640.000000  ...  20640.000000  20640.000000\n",
       "mean       3.870671     28.639486  ...     35.631861   -119.569704\n",
       "std        1.899822     12.585558  ...      2.135952      2.003532\n",
       "min        0.499900      1.000000  ...     32.540000   -124.350000\n",
       "25%        2.563400     18.000000  ...     33.930000   -121.800000\n",
       "50%        3.534800     29.000000  ...     34.260000   -118.490000\n",
       "75%        4.743250     37.000000  ...     37.710000   -118.010000\n",
       "max       15.000100     52.000000  ...     41.950000   -114.310000\n",
       "\n",
       "[8 rows x 8 columns]"
      ]
     },
     "execution_count": 28,
     "metadata": {},
     "output_type": "execute_result"
    }
   ],
   "source": [
    "x.describe()"
   ]
  },
  {
   "cell_type": "code",
   "execution_count": null,
   "metadata": {
    "id": "jeFTZdiAs5Nx"
   },
   "outputs": [],
   "source": [
    "scaler = StandardScaler()\n",
    "scaler.fit(train_x)\n",
    "\n",
    "train_x = scaler.transform(train_x)\n",
    "test_x = scaler.transform(test_x)"
   ]
  },
  {
   "cell_type": "markdown",
   "metadata": {
    "id": "WS-SOXZcs5Ny"
   },
   "source": [
    "## 2-2. Multilayer Perceptron (MLP) Regressor"
   ]
  },
  {
   "cell_type": "markdown",
   "metadata": {
    "id": "_h-Owb2Gs5Ny"
   },
   "source": [
    "### MLP Regressor 정의\n",
    "<a href='http://scikit-learn.org/stable/modules/generated/sklearn.neural_network.MLPRegressor.html'> Scikit-Learn MLP Regressor Manual </a>\n",
    "\n",
    "- <b>activation</b> - activation function 타입 (identity, logistic, tanh, <font color='red'>relu</font>) <br>\n",
    "- <b>batch_size</b> - stochastic optimizer가 사용할 minibatch 크기 <br>\n",
    "- <b>max_iter  </b> - stochastic optimizer의 최대 iteration 횟수 ( = Epochs )<br>\n",
    "- <b>alpha     </b> - Learning Rate (과적합 방지용) <br>\n",
    "- <b>solver    </b> - 경사하강법의 종류 (<font color='red'>adam</font>, sgd, lbfgs) <br>"
   ]
  },
  {
   "cell_type": "code",
   "execution_count": null,
   "metadata": {
    "id": "qex8wZEWs5Nz"
   },
   "outputs": [],
   "source": [
    "reg_mlp = MLPRegressor(activation='relu', alpha=1E-3, batch_size=25,\n",
    "                       hidden_layer_sizes=(4), max_iter=1000,\n",
    "                       solver='adam', verbose = True, random_state = 2025)"
   ]
  },
  {
   "cell_type": "markdown",
   "metadata": {
    "id": "Mr0a8XNos5Nz"
   },
   "source": [
    "### MLP Regressor 학습"
   ]
  },
  {
   "cell_type": "code",
   "execution_count": null,
   "metadata": {
    "colab": {
     "base_uri": "https://localhost:8080/"
    },
    "id": "q4d31ksTs5N0",
    "outputId": "587dbc14-b0b5-4aab-f29c-c746ad6f90d5",
    "scrolled": true
   },
   "outputs": [
    {
     "name": "stdout",
     "output_type": "stream",
     "text": [
      "Iteration 1, loss = 3.42061316\n",
      "Iteration 2, loss = 1.16347083\n",
      "Iteration 3, loss = 0.61276187\n",
      "Iteration 4, loss = 0.42554007\n",
      "Iteration 5, loss = 0.33312985\n",
      "Iteration 6, loss = 0.28132567\n",
      "Iteration 7, loss = 0.25410168\n",
      "Iteration 8, loss = 0.24066200\n",
      "Iteration 9, loss = 0.23276284\n",
      "Iteration 10, loss = 0.22723338\n",
      "Iteration 11, loss = 0.22364290\n",
      "Iteration 12, loss = 0.22194209\n",
      "Iteration 13, loss = 0.21981245\n",
      "Iteration 14, loss = 0.21672826\n",
      "Iteration 15, loss = 0.21591237\n",
      "Iteration 16, loss = 0.21429393\n",
      "Iteration 17, loss = 0.21295120\n",
      "Iteration 18, loss = 0.21061814\n",
      "Iteration 19, loss = 0.21199518\n",
      "Iteration 20, loss = 0.20955725\n",
      "Iteration 21, loss = 0.20917241\n",
      "Iteration 22, loss = 0.20914408\n",
      "Iteration 23, loss = 0.20805215\n",
      "Iteration 24, loss = 0.20873652\n",
      "Iteration 25, loss = 0.20751793\n",
      "Iteration 26, loss = 0.20797770\n",
      "Iteration 27, loss = 0.20763910\n",
      "Iteration 28, loss = 0.20592709\n",
      "Iteration 29, loss = 0.20528344\n",
      "Iteration 30, loss = 0.20494761\n",
      "Iteration 31, loss = 0.20608811\n",
      "Iteration 32, loss = 0.20451095\n",
      "Iteration 33, loss = 0.20420858\n",
      "Iteration 34, loss = 0.20341739\n",
      "Iteration 35, loss = 0.20362515\n",
      "Iteration 36, loss = 0.20266548\n",
      "Iteration 37, loss = 0.20217705\n",
      "Iteration 38, loss = 0.20175930\n",
      "Iteration 39, loss = 0.20198271\n",
      "Iteration 40, loss = 0.20131598\n",
      "Iteration 41, loss = 0.20137722\n",
      "Iteration 42, loss = 0.20068810\n",
      "Iteration 43, loss = 0.20053884\n",
      "Iteration 44, loss = 0.20010141\n",
      "Iteration 45, loss = 0.19975990\n",
      "Iteration 46, loss = 0.19916470\n",
      "Iteration 47, loss = 0.19941494\n",
      "Iteration 48, loss = 0.19932194\n",
      "Iteration 49, loss = 0.19827826\n",
      "Iteration 50, loss = 0.19824423\n",
      "Iteration 51, loss = 0.19774251\n",
      "Iteration 52, loss = 0.19792456\n",
      "Iteration 53, loss = 0.19739989\n",
      "Iteration 54, loss = 0.19790422\n",
      "Iteration 55, loss = 0.19636209\n",
      "Iteration 56, loss = 0.19677480\n",
      "Iteration 57, loss = 0.19682944\n",
      "Iteration 58, loss = 0.19617980\n",
      "Iteration 59, loss = 0.19602673\n",
      "Iteration 60, loss = 0.19563854\n",
      "Iteration 61, loss = 0.19507018\n",
      "Iteration 62, loss = 0.19586213\n",
      "Iteration 63, loss = 0.19505518\n",
      "Iteration 64, loss = 0.19472270\n",
      "Iteration 65, loss = 0.19506949\n",
      "Iteration 66, loss = 0.19370429\n",
      "Iteration 67, loss = 0.19551821\n",
      "Iteration 68, loss = 0.19423535\n",
      "Iteration 69, loss = 0.19492977\n",
      "Iteration 70, loss = 0.19424620\n",
      "Iteration 71, loss = 0.19383380\n",
      "Iteration 72, loss = 0.19316331\n",
      "Iteration 73, loss = 0.19354280\n",
      "Iteration 74, loss = 0.19460465\n",
      "Iteration 75, loss = 0.19315360\n",
      "Iteration 76, loss = 0.19359668\n",
      "Iteration 77, loss = 0.19242331\n",
      "Iteration 78, loss = 0.19358267\n",
      "Iteration 79, loss = 0.19300934\n",
      "Iteration 80, loss = 0.19262432\n",
      "Iteration 81, loss = 0.19404387\n",
      "Iteration 82, loss = 0.19301764\n",
      "Iteration 83, loss = 0.19281193\n",
      "Iteration 84, loss = 0.19313080\n",
      "Iteration 85, loss = 0.19169891\n",
      "Iteration 86, loss = 0.19132445\n",
      "Iteration 87, loss = 0.19249767\n",
      "Iteration 88, loss = 0.19231773\n",
      "Iteration 89, loss = 0.19154614\n",
      "Iteration 90, loss = 0.19214698\n",
      "Iteration 91, loss = 0.19132156\n",
      "Iteration 92, loss = 0.19180821\n",
      "Iteration 93, loss = 0.19126785\n",
      "Iteration 94, loss = 0.19133856\n",
      "Iteration 95, loss = 0.19090000\n",
      "Iteration 96, loss = 0.19107106\n",
      "Iteration 97, loss = 0.19067274\n",
      "Iteration 98, loss = 0.18991779\n",
      "Iteration 99, loss = 0.19006111\n",
      "Iteration 100, loss = 0.19168129\n",
      "Iteration 101, loss = 0.18959729\n",
      "Iteration 102, loss = 0.18943392\n",
      "Iteration 103, loss = 0.18977709\n",
      "Iteration 104, loss = 0.18964505\n",
      "Iteration 105, loss = 0.18930012\n",
      "Iteration 106, loss = 0.19024014\n",
      "Iteration 107, loss = 0.18961812\n",
      "Iteration 108, loss = 0.18974849\n",
      "Iteration 109, loss = 0.19008875\n",
      "Iteration 110, loss = 0.19030602\n",
      "Iteration 111, loss = 0.19023206\n",
      "Iteration 112, loss = 0.18890240\n",
      "Iteration 113, loss = 0.18915956\n",
      "Iteration 114, loss = 0.19020511\n",
      "Iteration 115, loss = 0.18918406\n",
      "Iteration 116, loss = 0.18913163\n",
      "Iteration 117, loss = 0.18888489\n",
      "Iteration 118, loss = 0.18918202\n",
      "Iteration 119, loss = 0.18976858\n",
      "Iteration 120, loss = 0.18932504\n",
      "Iteration 121, loss = 0.18922133\n",
      "Iteration 122, loss = 0.18942714\n",
      "Iteration 123, loss = 0.18960352\n",
      "Training loss did not improve more than tol=0.000100 for 10 consecutive epochs. Stopping.\n"
     ]
    },
    {
     "data": {
      "text/plain": [
       "MLPRegressor(alpha=0.001, batch_size=25, hidden_layer_sizes=4, max_iter=1000,\n",
       "             random_state=2022, verbose=True)"
      ]
     },
     "execution_count": 31,
     "metadata": {},
     "output_type": "execute_result"
    }
   ],
   "source": [
    "reg_mlp.fit(train_x, train_y)"
   ]
  },
  {
   "cell_type": "markdown",
   "metadata": {
    "id": "uGPuhbNgs5N0"
   },
   "source": [
    "### 학습 상태 확인 (learning curve)"
   ]
  },
  {
   "cell_type": "code",
   "execution_count": null,
   "metadata": {
    "colab": {
     "base_uri": "https://localhost:8080/",
     "height": 454
    },
    "id": "1mr1Cv51s5N1",
    "outputId": "9127f093-ad60-4757-cf19-a9d96d25369e"
   },
   "outputs": [
    {
     "data": {
      "image/png": "[encoded data removed]",
      "text/plain": [
       "<Figure size 1440x720 with 1 Axes>"
      ]
     },
     "metadata": {
      "needs_background": "light"
     },
     "output_type": "display_data"
    }
   ],
   "source": [
    "plt.figure(figsize=(20,10))\n",
    "\n",
    "train_loss_values = reg_mlp.loss_curve_\n",
    "plt.plot(train_loss_values,label='Train Loss')\n",
    "\n",
    "plt.legend(fontsize=20)\n",
    "plt.title(\"Learning Curve of trained MLP Regressor\", fontsize=18)\n",
    "plt.show()"
   ]
  },
  {
   "cell_type": "markdown",
   "metadata": {
    "id": "vQtcRWX-s5N1"
   },
   "source": [
    "## 2-3. Multilayer Perceptron 모델 성능 평가"
   ]
  },
  {
   "cell_type": "markdown",
   "metadata": {
    "id": "LnhSSkxMs5N2"
   },
   "source": [
    "### 학습된 MLP Regressor 결과 확인 및 성능 평가 : Training Data"
   ]
  },
  {
   "cell_type": "code",
   "execution_count": null,
   "metadata": {
    "id": "gRWXp-dNs5N2"
   },
   "outputs": [],
   "source": [
    "train_y_pred = reg_mlp.predict(train_x)"
   ]
  },
  {
   "cell_type": "code",
   "execution_count": null,
   "metadata": {
    "id": "1vt2n6_2s5N3"
   },
   "outputs": [],
   "source": [
    "def mean_absolute_percentage_error(y_true, y_pred):\n",
    "    y_true, y_pred = np.array(y_true), np.array(y_pred)\n",
    "    return np.mean(np.abs((y_true-y_pred)/y_true))*100"
   ]
  },
  {
   "cell_type": "code",
   "execution_count": null,
   "metadata": {
    "colab": {
     "base_uri": "https://localhost:8080/"
    },
    "id": "oSbsqJEOs5N4",
    "outputId": "5f69a971-5f87-470f-dcc0-5acad061d762"
   },
   "outputs": [
    {
     "name": "stdout",
     "output_type": "stream",
     "text": [
      "Training MSE : 0.376\n",
      "Training RMSE : 0.613\n",
      "Training MAE : 0.435\n",
      "Training MAPE : 24.975\n",
      "Training R2 : 0.719\n"
     ]
    }
   ],
   "source": [
    "print(\"Training MSE : {:.3f}\".format(mean_squared_error(train_y, train_y_pred)))\n",
    "print(\"Training RMSE : {:.3f}\".format(np.sqrt(mean_squared_error(train_y, train_y_pred))))\n",
    "print(\"Training MAE : {:.3f}\".format(mean_absolute_error(train_y, train_y_pred)))\n",
    "print(\"Training MAPE : {:.3f}\".format(mean_absolute_percentage_error(train_y, train_y_pred)))\n",
    "print(\"Training R2 : {:.3f}\".format(r2_score(train_y, train_y_pred)))"
   ]
  },
  {
   "cell_type": "code",
   "execution_count": null,
   "metadata": {
    "colab": {
     "base_uri": "https://localhost:8080/",
     "height": 522
    },
    "id": "DZEmzSRJs5N5",
    "outputId": "5a28f0d0-3382-4d03-b2b8-f9c56dd7a343"
   },
   "outputs": [
    {
     "data": {
      "image/png": "[encoded data removed]",
      "text/plain": [
       "<Figure size 576x576 with 1 Axes>"
      ]
     },
     "metadata": {
      "needs_background": "light"
     },
     "output_type": "display_data"
    }
   ],
   "source": [
    "# 산점도 그래프\n",
    "fig_values = np.concatenate([train_y.squeeze(), train_y_pred.squeeze()])\n",
    "vmin = np.min(fig_values) * 0.95\n",
    "vmax = np.max(fig_values) * 1.05\n",
    "\n",
    "plt.figure(figsize=(8, 8))\n",
    "plt.title('Actual values vs. Predicted values (Training Data)', size=18)\n",
    "plt.scatter(train_y, train_y_pred)\n",
    "plt.plot([vmin, vmax], [vmin, vmax], color='grey', linestyle='dashed')\n",
    "plt.xlabel('Actual', size=16)\n",
    "plt.ylabel('Predicted', size=16)\n",
    "plt.show()"
   ]
  },
  {
   "cell_type": "markdown",
   "metadata": {
    "id": "C5QdvfXis5N6"
   },
   "source": [
    "### 학습된 MLP Regressor 결과 확인 및 성능 평가 : Testing Data"
   ]
  },
  {
   "cell_type": "code",
   "execution_count": null,
   "metadata": {
    "id": "QGXGFpdSs5N6"
   },
   "outputs": [],
   "source": [
    "test_y_pred = reg_mlp.predict(test_x)"
   ]
  },
  {
   "cell_type": "code",
   "execution_count": null,
   "metadata": {
    "colab": {
     "base_uri": "https://localhost:8080/"
    },
    "id": "vWeOZhp-s5N7",
    "outputId": "8c706ead-0d80-47d3-b660-338056a81ede"
   },
   "outputs": [
    {
     "name": "stdout",
     "output_type": "stream",
     "text": [
      "Testing MSE : 0.372\n",
      "Testing RMSE : 0.610\n",
      "Testing MAE : 0.427\n",
      "Testing MAPE : 24.817\n",
      "Testing R2 : 0.719\n"
     ]
    }
   ],
   "source": [
    "print(\"Testing MSE : {:.3f}\".format(mean_squared_error(test_y, test_y_pred)))\n",
    "print(\"Testing RMSE : {:.3f}\".format(np.sqrt(mean_squared_error(test_y, test_y_pred))))\n",
    "print(\"Testing MAE : {:.3f}\".format(mean_absolute_error(test_y, test_y_pred)))\n",
    "print(\"Testing MAPE : {:.3f}\".format(mean_absolute_percentage_error(test_y, test_y_pred)))\n",
    "print(\"Testing R2 : {:.3f}\".format(r2_score(test_y, test_y_pred)))"
   ]
  },
  {
   "cell_type": "code",
   "execution_count": null,
   "metadata": {
    "colab": {
     "base_uri": "https://localhost:8080/",
     "height": 522
    },
    "id": "wxO29hXXs5N8",
    "outputId": "5dc64b84-5c5b-4497-d00a-16bb2a10b203"
   },
   "outputs": [
    {
     "data": {
      "image/png": "[encoded data removed]",
      "text/plain": [
       "<Figure size 576x576 with 1 Axes>"
      ]
     },
     "metadata": {
      "needs_background": "light"
     },
     "output_type": "display_data"
    }
   ],
   "source": [
    "# 산점도 그래프\n",
    "fig_values = np.concatenate([test_y.squeeze(), test_y_pred.squeeze()])\n",
    "vmin = np.min(fig_values) * 0.95\n",
    "vmax = np.max(fig_values) * 1.05\n",
    "\n",
    "plt.figure(figsize=(8, 8))\n",
    "plt.title('Actual values vs. Predicted values (Testing Data)', size=18)\n",
    "plt.scatter(test_y, test_y_pred)\n",
    "plt.plot([vmin, vmax], [vmin, vmax], color='grey', linestyle='dashed')\n",
    "plt.xlabel('Actual', size=16)\n",
    "plt.ylabel('Predicted', size=16)\n",
    "plt.show()"
   ]
  },
  {
   "cell_type": "code",
   "execution_count": null,
   "metadata": {
    "id": "VCpXcAF0s5N9"
   },
   "outputs": [],
   "source": []
  }
 ],
 "metadata": {
  "colab": {
   "provenance": []
  },
  "kernelspec": {
   "display_name": "Python 3 (ipykernel)",
   "language": "python",
   "name": "python3"
  },
  "language_info": {
   "codemirror_mode": {
    "name": "ipython",
    "version": 3
   },
   "file_extension": ".py",
   "mimetype": "text/x-python",
   "name": "python",
   "nbconvert_exporter": "python",
   "pygments_lexer": "ipython3",
   "version": "3.11.7"
  },
  "toc": {
   "base_numbering": 1,
   "nav_menu": {},
   "number_sections": true,
   "sideBar": true,
   "skip_h1_title": false,
   "title_cell": "Table of Contents",
   "title_sidebar": "Contents",
   "toc_cell": false,
   "toc_position": {},
   "toc_section_display": true,
   "toc_window_display": false
  },
  "varInspector": {
   "cols": {
    "lenName": 16,
    "lenType": 16,
    "lenVar": 40
   },
   "kernels_config": {
    "python": {
     "delete_cmd_postfix": "",
     "delete_cmd_prefix": "del ",
     "library": "var_list.py",
     "varRefreshCmd": "print(var_dic_list())"
    },
    "r": {
     "delete_cmd_postfix": ") ",
     "delete_cmd_prefix": "rm(",
     "library": "var_list.r",
     "varRefreshCmd": "cat(var_dic_list()) "
    }
   },
   "types_to_exclude": [
    "module",
    "function",
    "builtin_function_or_method",
    "instance",
    "_Feature"
   ],
   "window_display": false
  }
 },
 "nbformat": 4,
 "nbformat_minor": 1
}
